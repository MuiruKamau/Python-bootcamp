{
 "cells": [
  {
   "cell_type": "markdown",
   "id": "997d7f61",
   "metadata": {},
   "source": [
    "### Range function"
   ]
  },
  {
   "cell_type": "markdown",
   "id": "81fb1eaa",
   "metadata": {},
   "source": [
    " The range()function returns a sequence of numbers,starting from 0 by default,and increments by 1 and ends at a specified number."
   ]
  },
  {
   "cell_type": "code",
   "execution_count": 1,
   "id": "792c5082",
   "metadata": {},
   "outputs": [
    {
     "name": "stdout",
     "output_type": "stream",
     "text": [
      "0\n",
      "1\n",
      "2\n",
      "3\n",
      "4\n",
      "5\n"
     ]
    }
   ],
   "source": [
    "for x in range(6):#range(6) is values of 0 to 5 excluding 6\n",
    "    print(x)"
   ]
  },
  {
   "cell_type": "code",
   "execution_count": 2,
   "id": "3c7b48fd",
   "metadata": {},
   "outputs": [
    {
     "name": "stdout",
     "output_type": "stream",
     "text": [
      "0\n",
      "2\n",
      "4\n",
      "6\n",
      "8\n",
      "10\n"
     ]
    }
   ],
   "source": [
    "for num in range(0,11,2):\n",
    "    print(num)"
   ]
  },
  {
   "cell_type": "code",
   "execution_count": 3,
   "id": "168a8cdd",
   "metadata": {},
   "outputs": [
    {
     "data": {
      "text/plain": [
       "[0, 2, 4, 6, 8, 10]"
      ]
     },
     "execution_count": 3,
     "metadata": {},
     "output_type": "execute_result"
    }
   ],
   "source": [
    "#casting it into a list\n",
    "list(range(0,11,2))"
   ]
  },
  {
   "cell_type": "markdown",
   "id": "d1b7e214",
   "metadata": {},
   "source": [
    "### enumerate"
   ]
  },
  {
   "cell_type": "code",
   "execution_count": 4,
   "id": "9dc4c0da",
   "metadata": {},
   "outputs": [
    {
     "name": "stdout",
     "output_type": "stream",
     "text": [
      "At index 0 the letter in a\n",
      "At index 1 the letter in b\n",
      "At index 2 the letter in c\n",
      "At index 3 the letter in d\n",
      "At index 4 the letter in e\n"
     ]
    }
   ],
   "source": [
    "#Showing the motivation behind enumerate\n",
    "index_count = 0\n",
    "for letter in \"abcde\":\n",
    "    print(\"At index {} the letter in {}\".format(index_count,letter))\n",
    "    index_count += 1"
   ]
  },
  {
   "cell_type": "markdown",
   "id": "883f70ec",
   "metadata": {},
   "source": [
    "That's why we will need the enumerate function to replicate this.At most of the time we will need to have some sort of counter to see how many times you have gone through the for loop or what index you are at in the particular string."
   ]
  },
  {
   "cell_type": "markdown",
   "id": "d6cba9d9",
   "metadata": {},
   "source": [
    "###### Using the enumerate fuction"
   ]
  },
  {
   "cell_type": "code",
   "execution_count": 5,
   "id": "77e8348e",
   "metadata": {},
   "outputs": [
    {
     "name": "stdout",
     "output_type": "stream",
     "text": [
      "(0, 'a')\n",
      "(1, 'b')\n",
      "(2, 'c')\n",
      "(3, 'd')\n",
      "(4, 'e')\n"
     ]
    }
   ],
   "source": [
    "word = \"abcde\"\n",
    "\n",
    "for item in enumerate(word):\n",
    "    print(item)"
   ]
  },
  {
   "cell_type": "code",
   "execution_count": 6,
   "id": "11d523d5",
   "metadata": {},
   "outputs": [
    {
     "name": "stdout",
     "output_type": "stream",
     "text": [
      "0\n",
      "a\n",
      "\n",
      "\n",
      "1\n",
      "b\n",
      "\n",
      "\n",
      "2\n",
      "c\n",
      "\n",
      "\n",
      "3\n",
      "d\n",
      "\n",
      "\n",
      "4\n",
      "e\n",
      "\n",
      "\n"
     ]
    }
   ],
   "source": [
    "#we can also unpack\n",
    "word = \"abcde\"\n",
    "\n",
    "for index,letter in enumerate(word):\n",
    "    print(index)\n",
    "    print(letter)\n",
    "    print(\"\\n\")"
   ]
  },
  {
   "cell_type": "markdown",
   "id": "3ee9e1ed",
   "metadata": {},
   "source": [
    "### Zip function\n",
    "\n",
    "It zips together two lists."
   ]
  },
  {
   "cell_type": "code",
   "execution_count": 11,
   "id": "96f497fb",
   "metadata": {},
   "outputs": [],
   "source": [
    "list1 = [1,2,3]\n",
    "list2 = [\"a\",\"b\",\"C\"]\n",
    "list3 = [100,200,300]"
   ]
  },
  {
   "cell_type": "code",
   "execution_count": 12,
   "id": "2c7e1fd8",
   "metadata": {},
   "outputs": [
    {
     "name": "stdout",
     "output_type": "stream",
     "text": [
      "(1, 'a', 100)\n",
      "(2, 'b', 200)\n",
      "(3, 'C', 300)\n"
     ]
    }
   ],
   "source": [
    "for item in zip(list1,list2,list3):\n",
    "    print(item)"
   ]
  },
  {
   "cell_type": "code",
   "execution_count": 14,
   "id": "0ca5d490",
   "metadata": {},
   "outputs": [
    {
     "name": "stdout",
     "output_type": "stream",
     "text": [
      "100\n",
      "200\n",
      "300\n"
     ]
    }
   ],
   "source": [
    "#We can unpack this\n",
    "for a,b,c in zip(list1,list2,list3):\n",
    "    print(c)"
   ]
  },
  {
   "cell_type": "code",
   "execution_count": 13,
   "id": "3cec21c9",
   "metadata": {},
   "outputs": [
    {
     "data": {
      "text/plain": [
       "[(1, 'a', 100), (2, 'b', 200), (3, 'C', 300)]"
      ]
     },
     "execution_count": 13,
     "metadata": {},
     "output_type": "execute_result"
    }
   ],
   "source": [
    "#if you want to get the list itself:\n",
    "list(zip(list1,list2,list3))"
   ]
  },
  {
   "cell_type": "markdown",
   "id": "dc2d113c",
   "metadata": {},
   "source": [
    "### In keyword\n",
    "Return True if the value is inside the sequences"
   ]
  },
  {
   "cell_type": "code",
   "execution_count": 15,
   "id": "806340a8",
   "metadata": {},
   "outputs": [
    {
     "data": {
      "text/plain": [
       "True"
      ]
     },
     "execution_count": 15,
     "metadata": {},
     "output_type": "execute_result"
    }
   ],
   "source": [
    "1 in [1,2,3]"
   ]
  },
  {
   "cell_type": "code",
   "execution_count": 16,
   "id": "c32ef8dd",
   "metadata": {},
   "outputs": [
    {
     "data": {
      "text/plain": [
       "False"
      ]
     },
     "execution_count": 16,
     "metadata": {},
     "output_type": "execute_result"
    }
   ],
   "source": [
    "x in [\"x\",\"y\",\"z\"]"
   ]
  },
  {
   "cell_type": "code",
   "execution_count": 17,
   "id": "0588f6cb",
   "metadata": {},
   "outputs": [
    {
     "data": {
      "text/plain": [
       "True"
      ]
     },
     "execution_count": 17,
     "metadata": {},
     "output_type": "execute_result"
    }
   ],
   "source": [
    "\"a\" in \"Holla\""
   ]
  },
  {
   "cell_type": "markdown",
   "id": "a6d00b0b",
   "metadata": {},
   "source": [
    "##### min and max"
   ]
  },
  {
   "cell_type": "code",
   "execution_count": 18,
   "id": "66cd74f9",
   "metadata": {},
   "outputs": [
    {
     "data": {
      "text/plain": [
       "2"
      ]
     },
     "execution_count": 18,
     "metadata": {},
     "output_type": "execute_result"
    }
   ],
   "source": [
    "x =[10,20,30,5,2,100]\n",
    "min(x)"
   ]
  },
  {
   "cell_type": "code",
   "execution_count": 19,
   "id": "a0e77ebb",
   "metadata": {},
   "outputs": [
    {
     "data": {
      "text/plain": [
       "100"
      ]
     },
     "execution_count": 19,
     "metadata": {},
     "output_type": "execute_result"
    }
   ],
   "source": [
    "max(x)"
   ]
  },
  {
   "cell_type": "markdown",
   "id": "02ef81d2",
   "metadata": {},
   "source": [
    "### Random library\n",
    "Shuffle = randomly shuffles any sort of list.It's also an inplace function >> it operates inside a list."
   ]
  },
  {
   "cell_type": "code",
   "execution_count": 20,
   "id": "cf31b3d5",
   "metadata": {},
   "outputs": [],
   "source": [
    "from random import shuffle # if you hit tab after import you will see all the functions available to the library\n",
    "my_list = [1,2,3,4,5,6,7,8]\n"
   ]
  },
  {
   "cell_type": "code",
   "execution_count": 23,
   "id": "f3f3b879",
   "metadata": {},
   "outputs": [],
   "source": [
    "shuffle(my_list)"
   ]
  },
  {
   "cell_type": "code",
   "execution_count": 24,
   "id": "2fe0fe05",
   "metadata": {},
   "outputs": [
    {
     "data": {
      "text/plain": [
       "[1, 6, 3, 5, 7, 8, 2, 4]"
      ]
     },
     "execution_count": 24,
     "metadata": {},
     "output_type": "execute_result"
    }
   ],
   "source": [
    "my_list"
   ]
  },
  {
   "cell_type": "markdown",
   "id": "b0b3177d",
   "metadata": {},
   "source": [
    "###### randint for creating a random integer"
   ]
  },
  {
   "cell_type": "code",
   "execution_count": 26,
   "id": "d9d563a3",
   "metadata": {},
   "outputs": [
    {
     "data": {
      "text/plain": [
       "83"
      ]
     },
     "execution_count": 26,
     "metadata": {},
     "output_type": "execute_result"
    }
   ],
   "source": [
    "from random import randint\n",
    "randint(0,100)"
   ]
  },
  {
   "cell_type": "code",
   "execution_count": 27,
   "id": "30f2e78c",
   "metadata": {},
   "outputs": [
    {
     "name": "stdout",
     "output_type": "stream",
     "text": [
      "6\n"
     ]
    }
   ],
   "source": [
    "# We can save and use the random integer\n",
    "num = randint(0,20)\n",
    "print(num)"
   ]
  },
  {
   "cell_type": "code",
   "execution_count": 28,
   "id": "8e0d6ced",
   "metadata": {},
   "outputs": [
    {
     "data": {
      "text/plain": [
       "6"
      ]
     },
     "execution_count": 28,
     "metadata": {},
     "output_type": "execute_result"
    }
   ],
   "source": [
    "num"
   ]
  },
  {
   "cell_type": "code",
   "execution_count": null,
   "id": "2406e550",
   "metadata": {},
   "outputs": [],
   "source": []
  }
 ],
 "metadata": {
  "kernelspec": {
   "display_name": "Python 3 (ipykernel)",
   "language": "python",
   "name": "python3"
  },
  "language_info": {
   "codemirror_mode": {
    "name": "ipython",
    "version": 3
   },
   "file_extension": ".py",
   "mimetype": "text/x-python",
   "name": "python",
   "nbconvert_exporter": "python",
   "pygments_lexer": "ipython3",
   "version": "3.10.7"
  }
 },
 "nbformat": 4,
 "nbformat_minor": 5
}
