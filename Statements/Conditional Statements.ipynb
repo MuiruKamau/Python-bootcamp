{
 "cells": [
  {
   "cell_type": "markdown",
   "id": "a56fe1aa",
   "metadata": {},
   "source": [
    "# Conditional Statements"
   ]
  },
  {
   "cell_type": "markdown",
   "id": "8902a2da",
   "metadata": {},
   "source": [
    "Python supports the use of logical conditions\n",
    "\n",
    "1.  Equals :a = b\n",
    "2.  Not Equals:a != b\n",
    "3.  Less than: a < b\n",
    "4.  Less than or equal to: a <= b\n",
    "5.  Greater than or equal to: a >=b\n",
    "\n",
    "\n",
    "This conditions can be used in \"if statements\" and loops."
   ]
  },
  {
   "cell_type": "markdown",
   "id": "fd967b06",
   "metadata": {},
   "source": [
    "#####  If statement"
   ]
  },
  {
   "cell_type": "code",
   "execution_count": 4,
   "id": "68548b4d",
   "metadata": {},
   "outputs": [
    {
     "name": "stdout",
     "output_type": "stream",
     "text": [
      "a is greater than b\n"
     ]
    }
   ],
   "source": [
    "a = 100\n",
    "b = 50\n",
    "if a > b:\n",
    "    print(\"a is greater than b\")#leaving a white space at the beginning of the 4th line is called indentation.Python use it to \n",
    "                                #define scope in the code.If we write the if-statement without it we will raise an error.\n",
    "    \n",
    "\n",
    "    \n",
    "#in our example were comparing two variables that is a = 100 and b= 50.\n",
    "#a is greater than b so we print to screen than \"a is greater than b\"\n"
   ]
  },
  {
   "cell_type": "markdown",
   "id": "5bfbcba8",
   "metadata": {},
   "source": [
    "##### Elif\n",
    "The elif keyword in pythons way of saying \"if the previous conditions were not true,then try this condition\""
   ]
  },
  {
   "cell_type": "code",
   "execution_count": 5,
   "id": "68bd17f0",
   "metadata": {},
   "outputs": [
    {
     "name": "stdout",
     "output_type": "stream",
     "text": [
      "a and b are equal\n"
     ]
    }
   ],
   "source": [
    "a = 20\n",
    "b = 20\n",
    "if b > a:\n",
    "    print(\"b is greater than a\")\n",
    "elif a == b:\n",
    "    print(\"a and b are equal\")"
   ]
  },
  {
   "cell_type": "markdown",
   "id": "3ca46b50",
   "metadata": {},
   "source": [
    "##### Else\n",
    "The else keyword catches anything which isn't caught by the preceding conditions."
   ]
  },
  {
   "cell_type": "code",
   "execution_count": 7,
   "id": "1a3b268b",
   "metadata": {},
   "outputs": [
    {
     "name": "stdout",
     "output_type": "stream",
     "text": [
      "a is greater than b\n"
     ]
    }
   ],
   "source": [
    "a = 100\n",
    "b = 50\n",
    "if b > a:\n",
    "    print(\"b is greater than a\")\n",
    "\n",
    "elif b == a:\n",
    "    print(\"b is equal to a\")\n",
    "\n",
    "else:\n",
    "    print(\"a is greater than b\")\n",
    "    \n",
    "#Our first and second condition were not true because a > b.\n",
    "#Only the else condition will be executed printing \"a is greater than b\""
   ]
  },
  {
   "cell_type": "markdown",
   "id": "2da2a1f3",
   "metadata": {},
   "source": [
    "##### Short Hand If\n",
    "You can use a one line if statement it you only have one statement to execute."
   ]
  },
  {
   "cell_type": "code",
   "execution_count": 8,
   "id": "0bc534a8",
   "metadata": {},
   "outputs": [
    {
     "name": "stdout",
     "output_type": "stream",
     "text": [
      "a is greater than b\n"
     ]
    }
   ],
   "source": [
    "a = 100\n",
    "b = 50\n",
    "\n",
    "if a > b:print(\"a is greater than b\")"
   ]
  },
  {
   "cell_type": "code",
   "execution_count": 11,
   "id": "c9bfea53",
   "metadata": {},
   "outputs": [
    {
     "name": "stdout",
     "output_type": "stream",
     "text": [
      "a is equal to b\n"
     ]
    }
   ],
   "source": [
    "#one line if else statements\n",
    "a = 20\n",
    "b = 20\n",
    "\n",
    "print(\"a is greater b\") if a > b else print(\"a is equal to b\")"
   ]
  },
  {
   "cell_type": "code",
   "execution_count": 15,
   "id": "1001a7a3",
   "metadata": {},
   "outputs": [
    {
     "name": "stdout",
     "output_type": "stream",
     "text": [
      "B\n"
     ]
    }
   ],
   "source": [
    "#One line if else statement,with 3 conditions\n",
    "a = 100\n",
    "b = 50\n",
    "\n",
    "print(\"A\") if b > a  else print(\"=\") if a == b else print(\"B\")\n"
   ]
  },
  {
   "cell_type": "markdown",
   "id": "8fc1fa66",
   "metadata": {},
   "source": [
    "##### And\n",
    "And is a logical operator and is used to combine conditional statements"
   ]
  },
  {
   "cell_type": "code",
   "execution_count": 16,
   "id": "a2803c02",
   "metadata": {},
   "outputs": [
    {
     "name": "stdout",
     "output_type": "stream",
     "text": [
      "Both conditions are true\n"
     ]
    }
   ],
   "source": [
    "a = 200\n",
    "b = 50\n",
    "c = 300\n",
    "\n",
    "if a > b and c > a:\n",
    "    print(\"Both conditions are true\")"
   ]
  },
  {
   "cell_type": "markdown",
   "id": "f77412dc",
   "metadata": {},
   "source": [
    "##### Or\n",
    "Or is a logical operator and is used to combine conditional statements."
   ]
  },
  {
   "cell_type": "code",
   "execution_count": 17,
   "id": "81851b9a",
   "metadata": {},
   "outputs": [
    {
     "name": "stdout",
     "output_type": "stream",
     "text": [
      "At least one of the conditions is True\n"
     ]
    }
   ],
   "source": [
    "a = 200\n",
    "b = 50\n",
    "c = 300\n",
    "\n",
    "if a > b or a > c:\n",
    "    print(\"At least one of the conditions is True\")"
   ]
  },
  {
   "cell_type": "markdown",
   "id": "db72a80f",
   "metadata": {},
   "source": [
    "##### Nested If\n",
    "This is having if statements inside if statements."
   ]
  },
  {
   "cell_type": "code",
   "execution_count": 19,
   "id": "ef7bc960",
   "metadata": {},
   "outputs": [
    {
     "name": "stdout",
     "output_type": "stream",
     "text": [
      "Above ten,\n",
      "and also above 20.\n"
     ]
    }
   ],
   "source": [
    "x = 40\n",
    "\n",
    "if x > 10:\n",
    "    print(\"Above ten,\")\n",
    "    if x > 20:\n",
    "        print(\"and also above 20.\")\n",
    "    else:\n",
    "        print(\"but not above 20.\")\n",
    "              "
   ]
  },
  {
   "cell_type": "markdown",
   "id": "9f23db12",
   "metadata": {},
   "source": [
    "###### The Pass Statement\n",
    "If you have an if statement with no content we put in the pass statement to avoid getting an erro\n"
   ]
  },
  {
   "cell_type": "code",
   "execution_count": 20,
   "id": "a212d6c4",
   "metadata": {},
   "outputs": [],
   "source": [
    "a = 20\n",
    "b = 100\n",
    "\n",
    "if b > a:\n",
    "    pass"
   ]
  },
  {
   "cell_type": "code",
   "execution_count": null,
   "id": "dd0f7570",
   "metadata": {},
   "outputs": [],
   "source": [
    " "
   ]
  }
 ],
 "metadata": {
  "kernelspec": {
   "display_name": "Python 3 (ipykernel)",
   "language": "python",
   "name": "python3"
  },
  "language_info": {
   "codemirror_mode": {
    "name": "ipython",
    "version": 3
   },
   "file_extension": ".py",
   "mimetype": "text/x-python",
   "name": "python",
   "nbconvert_exporter": "python",
   "pygments_lexer": "ipython3",
   "version": "3.10.7"
  }
 },
 "nbformat": 4,
 "nbformat_minor": 5
}
