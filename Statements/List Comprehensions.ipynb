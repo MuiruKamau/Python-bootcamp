{
 "cells": [
  {
   "cell_type": "markdown",
   "id": "7fde63b2",
   "metadata": {},
   "source": [
    "# List Comprehensions\n",
    "There are a unique way of quickly creating a list with Python.\n",
    "\n",
    "If you find yourself using a for loop along with .append() to create a list,List comprehensions are a good alternative."
   ]
  },
  {
   "cell_type": "code",
   "execution_count": 1,
   "id": "f44e1fa9",
   "metadata": {},
   "outputs": [],
   "source": [
    "#Starting with a string I want to make a list for characters in the string\n",
    "mystring = \"hello\""
   ]
  },
  {
   "cell_type": "code",
   "execution_count": 4,
   "id": "710d89cc",
   "metadata": {},
   "outputs": [
    {
     "data": {
      "text/plain": [
       "['h', 'e', 'l', 'l', 'o']"
      ]
     },
     "execution_count": 4,
     "metadata": {},
     "output_type": "execute_result"
    }
   ],
   "source": [
    "#We are going to use a for loop\n",
    "mylist = []\n",
    "\n",
    "for letter in mystring:\n",
    "    mylist.append(letter)\n",
    "\n",
    "mylist\n"
   ]
  },
  {
   "cell_type": "code",
   "execution_count": 5,
   "id": "24264474",
   "metadata": {},
   "outputs": [
    {
     "name": "stdout",
     "output_type": "stream",
     "text": [
      "['h', 'e', 'l', 'l', 'o']\n"
     ]
    }
   ],
   "source": [
    "#Using a List comprehension\n",
    "print([letter for letter in mystring])"
   ]
  },
  {
   "cell_type": "markdown",
   "id": "ffc50e5f",
   "metadata": {},
   "source": [
    "converting from celcius to fahrenheit using a loop and list comprehension\n"
   ]
  },
  {
   "cell_type": "code",
   "execution_count": 13,
   "id": "325746ad",
   "metadata": {},
   "outputs": [
    {
     "data": {
      "text/plain": [
       "[32.0, 50.0, 68.0, 94.1]"
      ]
     },
     "execution_count": 13,
     "metadata": {},
     "output_type": "execute_result"
    }
   ],
   "source": [
    "celcius = [0,10,20,34.5]\n",
    "\n",
    "fahrenheit = []\n",
    "\n",
    "for temp in celcius:\n",
    "    fahrenheit.append((9/5) * temp + 32)\n",
    "\n",
    "fahrenheit"
   ]
  },
  {
   "cell_type": "code",
   "execution_count": 14,
   "id": "92a8962c",
   "metadata": {},
   "outputs": [
    {
     "data": {
      "text/plain": [
       "[32.0, 50.0, 68.0, 94.1]"
      ]
     },
     "execution_count": 14,
     "metadata": {},
     "output_type": "execute_result"
    }
   ],
   "source": [
    "fahrenheit = [((9/5) * temp + 32) for temp in celcius]\n",
    "fahrenheit"
   ]
  },
  {
   "cell_type": "markdown",
   "id": "30cfd2ed",
   "metadata": {},
   "source": [
    "###### Creating a list using comprehension"
   ]
  },
  {
   "cell_type": "code",
   "execution_count": 7,
   "id": "42e3ae4b",
   "metadata": {},
   "outputs": [
    {
     "name": "stdout",
     "output_type": "stream",
     "text": [
      "[0, 1, 2, 3, 4, 5, 6, 7, 8, 9, 10]\n"
     ]
    }
   ],
   "source": [
    "print([num for num in range(0,11)])"
   ]
  },
  {
   "cell_type": "code",
   "execution_count": 8,
   "id": "0564e4c1",
   "metadata": {},
   "outputs": [
    {
     "name": "stdout",
     "output_type": "stream",
     "text": [
      "[0, 1, 4, 9, 16, 25, 36, 49, 64, 81, 100]\n"
     ]
    }
   ],
   "source": [
    "#operations\n",
    "print([num ** 2 for num in range(0,11)])"
   ]
  },
  {
   "cell_type": "markdown",
   "id": "23d52f1e",
   "metadata": {},
   "source": [
    "Adding if statements"
   ]
  },
  {
   "cell_type": "code",
   "execution_count": 11,
   "id": "002471b3",
   "metadata": {},
   "outputs": [
    {
     "name": "stdout",
     "output_type": "stream",
     "text": [
      "[0, 2, 4, 6, 8, 10]\n"
     ]
    }
   ],
   "source": [
    "#We wanted to grab only the even numbers\n",
    "print([x for x in range(0,11) if x% 2 == 0])"
   ]
  },
  {
   "cell_type": "markdown",
   "id": "ce42fa3a",
   "metadata": {},
   "source": [
    "###### If else statements"
   ]
  },
  {
   "cell_type": "code",
   "execution_count": 15,
   "id": "f476ac10",
   "metadata": {},
   "outputs": [
    {
     "name": "stdout",
     "output_type": "stream",
     "text": [
      "[0, 'ODD', 2, 'ODD', 4, 'ODD', 6, 'ODD', 8, 'ODD', 10]\n"
     ]
    }
   ],
   "source": [
    "print([x if x % 2 == 0 else \"ODD\" for x in range(0,11)])"
   ]
  },
  {
   "cell_type": "markdown",
   "id": "7498ac72",
   "metadata": {},
   "source": [
    "###### Nested loops"
   ]
  },
  {
   "cell_type": "code",
   "execution_count": 20,
   "id": "6022553e",
   "metadata": {},
   "outputs": [
    {
     "data": {
      "text/plain": [
       "[2, 20, 200, 4, 40, 400, 6, 60, 600]"
      ]
     },
     "execution_count": 20,
     "metadata": {},
     "output_type": "execute_result"
    }
   ],
   "source": [
    "mylist = []\n",
    "\n",
    "for x in [2,4,6]:\n",
    "    for y in [1,10,100]:\n",
    "        mylist.append(x*y)\n",
    "        \n",
    "mylist"
   ]
  },
  {
   "cell_type": "code",
   "execution_count": 21,
   "id": "30781cac",
   "metadata": {},
   "outputs": [
    {
     "name": "stdout",
     "output_type": "stream",
     "text": [
      "[2, 20, 200, 4, 40, 400, 6, 60, 600]\n"
     ]
    }
   ],
   "source": [
    "#using a list comprehension\n",
    "print([x * y for x in [2,4,6] for y in [1,10,100]])"
   ]
  },
  {
   "cell_type": "code",
   "execution_count": null,
   "id": "3982d693",
   "metadata": {},
   "outputs": [],
   "source": []
  }
 ],
 "metadata": {
  "kernelspec": {
   "display_name": "Python 3 (ipykernel)",
   "language": "python",
   "name": "python3"
  },
  "language_info": {
   "codemirror_mode": {
    "name": "ipython",
    "version": 3
   },
   "file_extension": ".py",
   "mimetype": "text/x-python",
   "name": "python",
   "nbconvert_exporter": "python",
   "pygments_lexer": "ipython3",
   "version": "3.10.7"
  }
 },
 "nbformat": 4,
 "nbformat_minor": 5
}
