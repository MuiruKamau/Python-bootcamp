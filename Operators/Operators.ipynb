{
 "cells": [
  {
   "cell_type": "markdown",
   "id": "57773f27",
   "metadata": {},
   "source": [
    "# Operators\n",
    "Operators are used to perform operations on variables and values.They're divided in the following groups:\n",
    "\n",
    "1. Arithmetic operators\n",
    "2. Assignment operators\n",
    "3. Comparison operators\n",
    "4. Logical operators\n",
    "5. Identity operators\n",
    "6. Membership operators\n",
    "7. Bitwise operators"
   ]
  },
  {
   "cell_type": "markdown",
   "id": "5abefbda",
   "metadata": {},
   "source": [
    "### Python Arithmetic Operators\n",
    "Used with numeric values to perform common mathematical operations."
   ]
  },
  {
   "cell_type": "markdown",
   "id": "12f95c25",
   "metadata": {},
   "source": [
    "|Operator          |    Name              |\n",
    "|:-------:          |:-----------------|\n",
    "|+|Addition|\n",
    "|-|Substraction|\n",
    "|* |Multiplication|\n",
    "|/ |Division|\n",
    "|% |Modulus|\n",
    "|** |Exponentiation|\n",
    "|// |Floor division|"
   ]
  },
  {
   "cell_type": "markdown",
   "id": "0b153408",
   "metadata": {},
   "source": [
    "#### Examples"
   ]
  },
  {
   "cell_type": "markdown",
   "id": "3896eb42",
   "metadata": {},
   "source": [
    "###### Modulus\n",
    "It gives us the remainder after division."
   ]
  },
  {
   "cell_type": "code",
   "execution_count": 2,
   "id": "ead1150b",
   "metadata": {},
   "outputs": [
    {
     "data": {
      "text/plain": [
       "6"
      ]
     },
     "execution_count": 2,
     "metadata": {},
     "output_type": "execute_result"
    }
   ],
   "source": [
    "27 % 7 # Our answer will be the remainder which is six"
   ]
  },
  {
   "cell_type": "markdown",
   "id": "cfca5310",
   "metadata": {},
   "source": [
    "###### Floor division\n",
    "It will round down the value to closest whole number."
   ]
  },
  {
   "cell_type": "code",
   "execution_count": 4,
   "id": "56f8f32e",
   "metadata": {},
   "outputs": [
    {
     "data": {
      "text/plain": [
       "3"
      ]
     },
     "execution_count": 4,
     "metadata": {},
     "output_type": "execute_result"
    }
   ],
   "source": [
    "27 // 7 # The normal divison will give us 3.9 which will be rounded down to 3"
   ]
  },
  {
   "cell_type": "markdown",
   "id": "fc71d641",
   "metadata": {},
   "source": [
    "### Comparison Operators\n",
    "Used to compare two values."
   ]
  },
  {
   "cell_type": "markdown",
   "id": "da6b5d33",
   "metadata": {},
   "source": [
    "|Operator|Name|\n",
    "|:------:|:---|\n",
    "|==|Equal|\n",
    "|!=|Not equal|\n",
    "|>|Greater than|\n",
    "|<|Less than|\n",
    "|>=|Greater than or equal to|\n",
    "|<=|Less than or equal to |"
   ]
  },
  {
   "cell_type": "code",
   "execution_count": 4,
   "id": "62211496",
   "metadata": {},
   "outputs": [
    {
     "data": {
      "text/plain": [
       "True"
      ]
     },
     "execution_count": 4,
     "metadata": {},
     "output_type": "execute_result"
    }
   ],
   "source": [
    "#Examples\n",
    "3 >= 2"
   ]
  },
  {
   "cell_type": "code",
   "execution_count": 6,
   "id": "83cb4df1",
   "metadata": {},
   "outputs": [
    {
     "data": {
      "text/plain": [
       "True"
      ]
     },
     "execution_count": 6,
     "metadata": {},
     "output_type": "execute_result"
    }
   ],
   "source": [
    "2 <= 3"
   ]
  },
  {
   "cell_type": "markdown",
   "id": "07c1b271",
   "metadata": {},
   "source": [
    "### Assignment Operators\n",
    "Used to assign values to variables."
   ]
  },
  {
   "cell_type": "markdown",
   "id": "b9468c81",
   "metadata": {},
   "source": [
    "|Operator|Example|Same As|\n",
    "|:------:|:------|:------|\n",
    "|=|x=5|x=5|\n",
    "|+=|x+=4|x=x+4|\n",
    "|-=|x-=4|x=x-4|\n",
    "|%=|x%=3|x=x%3|\n",
    "|<<=|x<<=4|x=x<<4|"
   ]
  },
  {
   "cell_type": "markdown",
   "id": "c23faf9f",
   "metadata": {},
   "source": [
    "# Logical Operators"
   ]
  },
  {
   "cell_type": "markdown",
   "id": "534bc6d4",
   "metadata": {},
   "source": [
    "|Operator   |Description   |\n",
    "|:---------:|:-------------|\n",
    "|and|Returns True if both statements are true|\n",
    "|or|Return True if one of the statements is true|\n",
    "|not|Reverse the result|"
   ]
  },
  {
   "cell_type": "markdown",
   "id": "e2996cd4",
   "metadata": {},
   "source": [
    "###### Examples"
   ]
  },
  {
   "cell_type": "code",
   "execution_count": 8,
   "id": "32482334",
   "metadata": {},
   "outputs": [
    {
     "name": "stdout",
     "output_type": "stream",
     "text": [
      "True\n"
     ]
    }
   ],
   "source": [
    "x = 5\n",
    "print(x <10 and x > 3)"
   ]
  },
  {
   "cell_type": "code",
   "execution_count": 9,
   "id": "e9785d13",
   "metadata": {},
   "outputs": [
    {
     "name": "stdout",
     "output_type": "stream",
     "text": [
      "False\n"
     ]
    }
   ],
   "source": [
    "print(x>10 and x >3)"
   ]
  },
  {
   "cell_type": "code",
   "execution_count": 10,
   "id": "ef93930a",
   "metadata": {},
   "outputs": [
    {
     "name": "stdout",
     "output_type": "stream",
     "text": [
      "True\n"
     ]
    }
   ],
   "source": [
    "print(not(x>10 and x >3))"
   ]
  },
  {
   "cell_type": "markdown",
   "id": "88d7a8c8",
   "metadata": {},
   "source": [
    "### Identity Operators\n",
    "Used to compare objects if they are actually the same"
   ]
  },
  {
   "cell_type": "markdown",
   "id": "f9c4af7c",
   "metadata": {},
   "source": [
    "|Operator|Description|\n",
    "|:------:|:----------|\n",
    "|is|Returns True if both variables are the same object|\n",
    "|is not|Returns True if both variables are not the same object|\n"
   ]
  },
  {
   "cell_type": "markdown",
   "id": "d411fc72",
   "metadata": {},
   "source": [
    "###### Examples"
   ]
  },
  {
   "cell_type": "code",
   "execution_count": 13,
   "id": "71371d22",
   "metadata": {},
   "outputs": [
    {
     "name": "stdout",
     "output_type": "stream",
     "text": [
      "True\n",
      "False\n"
     ]
    }
   ],
   "source": [
    "x = [\"apple\",\"banana\"]\n",
    "y = [\"apple\",\"banana\"]\n",
    "z=x\n",
    "\n",
    "print(x is z)# Return true because z is the same object as x\n",
    "print(x is y)# Return false because x is not the same object as y even if they contain the same elements"
   ]
  },
  {
   "cell_type": "markdown",
   "id": "15cb6576",
   "metadata": {},
   "source": [
    "# Membership Operators\n",
    "Used to test if a sequence is presented in an object."
   ]
  },
  {
   "cell_type": "markdown",
   "id": "4333cd98",
   "metadata": {},
   "source": [
    "|Operator|Description|\n",
    "|:------:|:----------|\n",
    "|in|Returns True if a sequence with the specified value is present in the object|\n",
    "|not in |Return True if a sequence with the specified value is not present in the object|"
   ]
  },
  {
   "cell_type": "code",
   "execution_count": 16,
   "id": "f668d263",
   "metadata": {},
   "outputs": [
    {
     "name": "stdout",
     "output_type": "stream",
     "text": [
      "True\n"
     ]
    }
   ],
   "source": [
    "x = [\"apple\",\"banana\"]\n",
    "print(\"apple\" in x)"
   ]
  },
  {
   "cell_type": "code",
   "execution_count": null,
   "id": "e566f6f9",
   "metadata": {},
   "outputs": [],
   "source": []
  }
 ],
 "metadata": {
  "kernelspec": {
   "display_name": "Python 3 (ipykernel)",
   "language": "python",
   "name": "python3"
  },
  "language_info": {
   "codemirror_mode": {
    "name": "ipython",
    "version": 3
   },
   "file_extension": ".py",
   "mimetype": "text/x-python",
   "name": "python",
   "nbconvert_exporter": "python",
   "pygments_lexer": "ipython3",
   "version": "3.10.7"
  }
 },
 "nbformat": 4,
 "nbformat_minor": 5
}
