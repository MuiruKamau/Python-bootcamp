{
 "cells": [
  {
   "cell_type": "markdown",
   "id": "751b179c",
   "metadata": {},
   "source": [
    "   # Data types"
   ]
  },
  {
   "cell_type": "markdown",
   "id": "d7c723a5",
   "metadata": {},
   "source": [
    "                                         Python has the following built-in data types "
   ]
  },
  {
   "cell_type": "markdown",
   "id": "fdd10657",
   "metadata": {},
   "source": [
    "|Text Type                                      |str                                          |\n",
    "|:--------------------------------------------- |:--------------------------------------------|\n",
    "|Numeric  Types                                 |int,float,complex                            |\n",
    "|Sequence Types|list,tuple,range\n",
    "|Mapping  Type |dict\n",
    "|Set      Types|set,frozenset\n",
    "|Boolean  Type |bool\n",
    "|Binary   Types|bytes,bytearray,memoryview\n",
    "|None     Type |NoneType"
   ]
  },
  {
   "cell_type": "markdown",
   "id": "7fbf97c1",
   "metadata": {},
   "source": [
    "###### Getting the Data Type\n",
    "You can get the data type of any object using the type()function"
   ]
  },
  {
   "cell_type": "code",
   "execution_count": 1,
   "id": "00c1e106",
   "metadata": {},
   "outputs": [
    {
     "data": {
      "text/plain": [
       "str"
      ]
     },
     "execution_count": 1,
     "metadata": {},
     "output_type": "execute_result"
    }
   ],
   "source": [
    "a = \"Brazil is likely to win this year worldcup\"\n",
    "type(a)"
   ]
  },
  {
   "cell_type": "markdown",
   "id": "13d52a92",
   "metadata": {},
   "source": [
    "###### Setting the Data type\n",
    "The data type is set when you a sign value to a variable."
   ]
  },
  {
   "cell_type": "code",
   "execution_count": 2,
   "id": "8ba69f02",
   "metadata": {},
   "outputs": [
    {
     "name": "stdout",
     "output_type": "stream",
     "text": [
      "<class 'set'>\n"
     ]
    }
   ],
   "source": [
    "x = {\"banana\",\"apple\",\"sweetberries\"}\n",
    "print(type(x))"
   ]
  },
  {
   "cell_type": "markdown",
   "id": "357c28b3",
   "metadata": {},
   "source": [
    "###### Setting a specific Data type"
   ]
  },
  {
   "cell_type": "code",
   "execution_count": 3,
   "id": "6f95395d",
   "metadata": {},
   "outputs": [
    {
     "name": "stdout",
     "output_type": "stream",
     "text": [
      "<class 'int'>\n"
     ]
    }
   ],
   "source": [
    "y = int(20)\n",
    "print(type(y))"
   ]
  },
  {
   "cell_type": "code",
   "execution_count": null,
   "id": "2450a566",
   "metadata": {},
   "outputs": [],
   "source": []
  }
 ],
 "metadata": {
  "kernelspec": {
   "display_name": "Python 3 (ipykernel)",
   "language": "python",
   "name": "python3"
  },
  "language_info": {
   "codemirror_mode": {
    "name": "ipython",
    "version": 3
   },
   "file_extension": ".py",
   "mimetype": "text/x-python",
   "name": "python",
   "nbconvert_exporter": "python",
   "pygments_lexer": "ipython3",
   "version": "3.10.7"
  }
 },
 "nbformat": 4,
 "nbformat_minor": 5
}
