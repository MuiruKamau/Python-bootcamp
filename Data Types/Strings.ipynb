{
 "cells": [
  {
   "cell_type": "markdown",
   "id": "e7b639af",
   "metadata": {},
   "source": [
    "<h1>Strings</h1>"
   ]
  },
  {
   "cell_type": "markdown",
   "id": "8855cd08",
   "metadata": {},
   "source": [
    "<p>Strings in python are either sorrounded by either single quotation mark or double quotation mark</p>"
   ]
  },
  {
   "cell_type": "markdown",
   "id": "614aba8c",
   "metadata": {},
   "source": [
    "1. Python strings\n",
    "2. Slicing strings\n",
    "3. Modify strings\n",
    "4. Concatenate strings\n",
    "5. format strings\n",
    "6. Escape characters\n",
    "7. Strings methods"
   ]
  },
  {
   "cell_type": "markdown",
   "id": "56236f00",
   "metadata": {},
   "source": [
    "<h6>1.Python strings</h6>"
   ]
  },
  {
   "cell_type": "code",
   "execution_count": 1,
   "id": "a7b9e397",
   "metadata": {},
   "outputs": [
    {
     "name": "stdout",
     "output_type": "stream",
     "text": [
      "I'm 21 years of age\n"
     ]
    }
   ],
   "source": [
    "#Example of a python string\n",
    "print(\"I'm 21 years of age\")"
   ]
  },
  {
   "cell_type": "code",
   "execution_count": 2,
   "id": "80ed59c1",
   "metadata": {},
   "outputs": [
    {
     "name": "stdout",
     "output_type": "stream",
     "text": [
      "I'm Muiru Kamau \n",
      "I'm a recent graduate of University Of Nairobi \n",
      "I'm An aspiring data science\n"
     ]
    }
   ],
   "source": [
    "#How to break a line \n",
    "print(\"I'm Muiru Kamau \\nI'm a recent graduate of University Of Nairobi \\nI'm An aspiring data science\")"
   ]
  },
  {
   "cell_type": "code",
   "execution_count": 3,
   "id": "420f19df",
   "metadata": {},
   "outputs": [
    {
     "data": {
      "text/plain": [
       "5"
      ]
     },
     "execution_count": 3,
     "metadata": {},
     "output_type": "execute_result"
    }
   ],
   "source": [
    "a = \"Hello\"\n",
    "len(a)"
   ]
  },
  {
   "cell_type": "code",
   "execution_count": 4,
   "id": "f8a158ff",
   "metadata": {},
   "outputs": [
    {
     "name": "stdout",
     "output_type": "stream",
     "text": [
      "I'm Muiru Kamau\n",
      "I'm a recent graduate of University of Nairobi\n",
      "I'm an aspiring data scientist \n"
     ]
    }
   ],
   "source": [
    "#You can assign a multiline string to a variable using three qoutes \n",
    "a =\"\"\"I'm Muiru Kamau\n",
    "I'm a recent graduate of University of Nairobi\n",
    "I'm an aspiring data scientist \"\"\"\n",
    "print(a)"
   ]
  },
  {
   "cell_type": "code",
   "execution_count": 1,
   "id": "e2da30ed",
   "metadata": {},
   "outputs": [
    {
     "name": "stdout",
     "output_type": "stream",
     "text": [
      "Hello world\n",
      "Hello world\n"
     ]
    }
   ],
   "source": [
    "#you must use the print() function to out put mre than one string\n",
    "print(\"Hello world\")\n",
    "print(\"Hello world\")"
   ]
  },
  {
   "cell_type": "code",
   "execution_count": 2,
   "id": "f6dca3c9",
   "metadata": {},
   "outputs": [
    {
     "name": "stdout",
     "output_type": "stream",
     "text": [
      "b\n",
      "a\n",
      "n\n",
      "a\n",
      "n\n",
      "a\n"
     ]
    }
   ],
   "source": [
    "#looping in a string\n",
    "a = \"banana\"\n",
    "for i in a:\n",
    "    print(i)"
   ]
  },
  {
   "cell_type": "markdown",
   "id": "793a3264",
   "metadata": {},
   "source": [
    "Check if certain words or character are in a string"
   ]
  },
  {
   "cell_type": "code",
   "execution_count": 7,
   "id": "b30e791e",
   "metadata": {},
   "outputs": [
    {
     "name": "stdout",
     "output_type": "stream",
     "text": [
      "yes,'dad' is in b\n"
     ]
    }
   ],
   "source": [
    "# using an if statement\n",
    "b=\"My dad is a big person\"\n",
    "if 'dad' in b:\n",
    "    print(\"yes,'dad' is in b\")"
   ]
  },
  {
   "cell_type": "code",
   "execution_count": 8,
   "id": "87392b2a",
   "metadata": {},
   "outputs": [
    {
     "name": "stdout",
     "output_type": "stream",
     "text": [
      "True\n"
     ]
    }
   ],
   "source": [
    "print(\"dad\" in b)"
   ]
  },
  {
   "cell_type": "markdown",
   "id": "2728c323",
   "metadata": {},
   "source": [
    "#### 2.Indexing and slicing strings\n",
    "Since strings are ordered sequences means we can use indexing to grab subsections."
   ]
  },
  {
   "cell_type": "code",
   "execution_count": 9,
   "id": "11a8a4cc",
   "metadata": {},
   "outputs": [
    {
     "data": {
      "text/plain": [
       "'e'"
      ]
     },
     "execution_count": 9,
     "metadata": {},
     "output_type": "execute_result"
    }
   ],
   "source": [
    "#indexing \n",
    "a = \"Hello\"\n",
    "a[1]"
   ]
  },
  {
   "cell_type": "markdown",
   "id": "670bd2a8",
   "metadata": {},
   "source": [
    "We use : to slice a string"
   ]
  },
  {
   "cell_type": "code",
   "execution_count": 10,
   "id": "aa7773cf",
   "metadata": {},
   "outputs": [
    {
     "name": "stdout",
     "output_type": "stream",
     "text": [
      "ello\n"
     ]
    }
   ],
   "source": [
    "#get characters from 1 to the end\n",
    "print(a[1:])"
   ]
  },
  {
   "cell_type": "code",
   "execution_count": 13,
   "id": "2bc5947a",
   "metadata": {},
   "outputs": [
    {
     "name": "stdout",
     "output_type": "stream",
     "text": [
      "Hell\n"
     ]
    }
   ],
   "source": [
    "#get characters from start to 4(not included)\n",
    "print(a[:4])"
   ]
  },
  {
   "cell_type": "code",
   "execution_count": 11,
   "id": "e19a3c30",
   "metadata": {},
   "outputs": [
    {
     "data": {
      "text/plain": [
       "'o'"
      ]
     },
     "execution_count": 11,
     "metadata": {},
     "output_type": "execute_result"
    }
   ],
   "source": [
    "#reverse indexing\n",
    "a[-1]"
   ]
  },
  {
   "cell_type": "code",
   "execution_count": 12,
   "id": "9bc8e6dd",
   "metadata": {},
   "outputs": [
    {
     "name": "stdout",
     "output_type": "stream",
     "text": [
      "Hel\n"
     ]
    }
   ],
   "source": [
    "#get characters from -5 to -2(not included)\n",
    "print(a[-5:-2])"
   ]
  },
  {
   "cell_type": "markdown",
   "id": "9084c072",
   "metadata": {},
   "source": [
    "We slice a string using this order [start:stop:step]"
   ]
  },
  {
   "cell_type": "code",
   "execution_count": 14,
   "id": "67186f23",
   "metadata": {},
   "outputs": [
    {
     "name": "stdout",
     "output_type": "stream",
     "text": [
      "adgj\n"
     ]
    }
   ],
   "source": [
    "#let us step size\n",
    "mystring = \"abcdefghijk\"\n",
    "print(mystring[::3])"
   ]
  },
  {
   "cell_type": "code",
   "execution_count": null,
   "id": "948fcecf",
   "metadata": {},
   "outputs": [],
   "source": [
    "print(mystring[::-1])"
   ]
  },
  {
   "cell_type": "markdown",
   "id": "f22c692f",
   "metadata": {},
   "source": [
    "<h6>concatenate strings</h6>"
   ]
  },
  {
   "cell_type": "code",
   "execution_count": 15,
   "id": "4b59dbef",
   "metadata": {},
   "outputs": [
    {
     "name": "stdout",
     "output_type": "stream",
     "text": [
      "Hello World\n"
     ]
    }
   ],
   "source": [
    "a = \"Hello \"\n",
    "b = \"World\"\n",
    "c= a + b\n",
    "print(c)"
   ]
  },
  {
   "cell_type": "code",
   "execution_count": 16,
   "id": "8966e877",
   "metadata": {},
   "outputs": [
    {
     "data": {
      "text/plain": [
       "'zz'"
      ]
     },
     "execution_count": 16,
     "metadata": {},
     "output_type": "execute_result"
    }
   ],
   "source": [
    "letter = \"z\"\n",
    "letter * 1\n",
    "letter * 2"
   ]
  },
  {
   "cell_type": "markdown",
   "id": "4715ba6d",
   "metadata": {},
   "source": [
    "### Modify strings(properties and methods)"
   ]
  },
  {
   "cell_type": "markdown",
   "id": "bd71c315",
   "metadata": {},
   "source": [
    "If you write a variable with a period and hit tab a list will pop out"
   ]
  },
  {
   "cell_type": "code",
   "execution_count": 17,
   "id": "ae3add0a",
   "metadata": {},
   "outputs": [],
   "source": [
    "a = \"Hello World\""
   ]
  },
  {
   "cell_type": "code",
   "execution_count": 18,
   "id": "1f9a06fa",
   "metadata": {},
   "outputs": [
    {
     "data": {
      "text/plain": [
       "'HELLO WORLD'"
      ]
     },
     "execution_count": 18,
     "metadata": {},
     "output_type": "execute_result"
    }
   ],
   "source": [
    "a.upper()"
   ]
  },
  {
   "cell_type": "code",
   "execution_count": 19,
   "id": "063642d3",
   "metadata": {},
   "outputs": [
    {
     "data": {
      "text/plain": [
       "['Hello', 'World']"
      ]
     },
     "execution_count": 19,
     "metadata": {},
     "output_type": "execute_result"
    }
   ],
   "source": [
    "#it helps you to create a list from a string.\n",
    "a.split()"
   ]
  },
  {
   "cell_type": "code",
   "execution_count": 20,
   "id": "3c9717dd",
   "metadata": {},
   "outputs": [
    {
     "data": {
      "text/plain": [
       "'Hello World!'"
      ]
     },
     "execution_count": 20,
     "metadata": {},
     "output_type": "execute_result"
    }
   ],
   "source": [
    "a.replace(\"World\",\"World!\")"
   ]
  },
  {
   "cell_type": "code",
   "execution_count": 21,
   "id": "9fcf66e4",
   "metadata": {},
   "outputs": [
    {
     "data": {
      "text/plain": [
       "'Hello world'"
      ]
     },
     "execution_count": 21,
     "metadata": {},
     "output_type": "execute_result"
    }
   ],
   "source": [
    "#Removing whitespace\n",
    "b = \"  Hello world  \"\n",
    "b.strip()"
   ]
  },
  {
   "cell_type": "markdown",
   "id": "f03e6df1",
   "metadata": {},
   "source": [
    "###### Immutability\n",
    "Once the string is created the elements cannot be changed or replaced"
   ]
  },
  {
   "cell_type": "code",
   "execution_count": 3,
   "id": "bb34d862",
   "metadata": {},
   "outputs": [
    {
     "ename": "TypeError",
     "evalue": "'str' object does not support item assignment",
     "output_type": "error",
     "traceback": [
      "\u001b[1;31m---------------------------------------------------------------------------\u001b[0m",
      "\u001b[1;31mTypeError\u001b[0m                                 Traceback (most recent call last)",
      "Cell \u001b[1;32mIn [3], line 2\u001b[0m\n\u001b[0;32m      1\u001b[0m a \u001b[38;5;241m=\u001b[39m \u001b[38;5;124m\"\u001b[39m\u001b[38;5;124mSam\u001b[39m\u001b[38;5;124m\"\u001b[39m\n\u001b[1;32m----> 2\u001b[0m a[\u001b[38;5;241m0\u001b[39m] \u001b[38;5;241m=\u001b[39m \u001b[38;5;124m\"\u001b[39m\u001b[38;5;124mP\u001b[39m\u001b[38;5;124m\"\u001b[39m\n",
      "\u001b[1;31mTypeError\u001b[0m: 'str' object does not support item assignment"
     ]
    }
   ],
   "source": [
    "#If you uncomment my second line of code you will run into an error\n",
    "a = \"Sam\"\n",
    "#a[0] = \"P\""
   ]
  },
  {
   "cell_type": "code",
   "execution_count": 8,
   "id": "4fd7d2f5",
   "metadata": {},
   "outputs": [
    {
     "name": "stdout",
     "output_type": "stream",
     "text": [
      "am\n",
      "pam\n"
     ]
    }
   ],
   "source": [
    "#If we want to change values of a string we can slice and concatenate\n",
    "b = a[1:]\n",
    "print(b)\n",
    "print(\"p\" + b)"
   ]
  },
  {
   "cell_type": "markdown",
   "id": "20fe4c69",
   "metadata": {},
   "source": [
    "<h6>formatting strings</h6>\n",
    "Using format method\n",
    "\n",
    "\"string {}\".format()"
   ]
  },
  {
   "cell_type": "code",
   "execution_count": null,
   "id": "2ce89a7a",
   "metadata": {},
   "outputs": [],
   "source": [
    "#using format method\n",
    "print(\"my name is {}\".format(\"Ben\"))"
   ]
  },
  {
   "cell_type": "code",
   "execution_count": null,
   "id": "4052d939",
   "metadata": {},
   "outputs": [],
   "source": [
    "#You can assign using indexing\n",
    "print(\"my sibling names are {0} {1} {2}\".format(\"Ben\",\"Cris\",\"Harri\"))"
   ]
  },
  {
   "cell_type": "code",
   "execution_count": null,
   "id": "b8e30e6c",
   "metadata": {},
   "outputs": [],
   "source": [
    "#You can assign using keywords\n",
    "print(\"My siblings names are {b} {c} {h}\".format(b=\"Ben\",c=\"Cris\",h=\"Harri\"))"
   ]
  },
  {
   "cell_type": "code",
   "execution_count": null,
   "id": "b02f2c0c",
   "metadata": {},
   "outputs": [],
   "source": [
    "name = \"Ben\"\n",
    "age = 21\n",
    "print(\"My name is {} and I'm {} of age\".format(name,age))"
   ]
  },
  {
   "cell_type": "markdown",
   "id": "b51cf6c9",
   "metadata": {},
   "source": [
    "Float formatting \n",
    "\n",
    "Follows \"{value:width.precisionf}\"\n",
    "\n",
    "precision is the number of decimal point followed by an f"
   ]
  },
  {
   "cell_type": "code",
   "execution_count": null,
   "id": "32fe0c56",
   "metadata": {},
   "outputs": [],
   "source": [
    "b = 100/87\n",
    "print(b)"
   ]
  },
  {
   "cell_type": "code",
   "execution_count": null,
   "id": "7994f880",
   "metadata": {},
   "outputs": [],
   "source": [
    "print(\"The value of our sum is {0:1.2f}\".format(b))"
   ]
  },
  {
   "cell_type": "markdown",
   "id": "787f18fa",
   "metadata": {},
   "source": [
    "Using F strings"
   ]
  },
  {
   "cell_type": "code",
   "execution_count": 22,
   "id": "e9675fb7",
   "metadata": {},
   "outputs": [
    {
     "name": "stdout",
     "output_type": "stream",
     "text": [
      "My name is Ben and I'm 21 years old\n"
     ]
    }
   ],
   "source": [
    "name = \"Ben\"\n",
    "age = 21\n",
    "print(f\"My name is {name} and I'm {age} years old\")"
   ]
  },
  {
   "cell_type": "code",
   "execution_count": null,
   "id": "495a01b4",
   "metadata": {},
   "outputs": [],
   "source": []
  }
 ],
 "metadata": {
  "kernelspec": {
   "display_name": "Python 3 (ipykernel)",
   "language": "python",
   "name": "python3"
  },
  "language_info": {
   "codemirror_mode": {
    "name": "ipython",
    "version": 3
   },
   "file_extension": ".py",
   "mimetype": "text/x-python",
   "name": "python",
   "nbconvert_exporter": "python",
   "pygments_lexer": "ipython3",
   "version": "3.10.7"
  }
 },
 "nbformat": 4,
 "nbformat_minor": 5
}
