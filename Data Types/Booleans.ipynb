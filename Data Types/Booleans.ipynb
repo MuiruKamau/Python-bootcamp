{
 "cells": [
  {
   "cell_type": "markdown",
   "id": "abcc7502",
   "metadata": {},
   "source": [
    "# Booleans\n",
    "\n",
    "They represent either True or False\n",
    "1. Any string is True ,except empty strings.\n",
    "2. Any number is True,except 0\n",
    "3. Any List,tuple,set and dictionary are True except empty ones."
   ]
  },
  {
   "cell_type": "markdown",
   "id": "d76e8915",
   "metadata": {},
   "source": [
    "###### When comparing two values "
   ]
  },
  {
   "cell_type": "code",
   "execution_count": 1,
   "id": "6ce1483b",
   "metadata": {},
   "outputs": [
    {
     "name": "stdout",
     "output_type": "stream",
     "text": [
      "True\n"
     ]
    }
   ],
   "source": [
    "print(10 > 5)"
   ]
  },
  {
   "cell_type": "markdown",
   "id": "26d5e754",
   "metadata": {},
   "source": [
    "###### using bool() function "
   ]
  },
  {
   "cell_type": "code",
   "execution_count": 3,
   "id": "e87fa1b8",
   "metadata": {},
   "outputs": [
    {
     "name": "stdout",
     "output_type": "stream",
     "text": [
      "True\n"
     ]
    }
   ],
   "source": [
    "#it always return true or false\n",
    "print(bool(15))"
   ]
  },
  {
   "cell_type": "markdown",
   "id": "22695e10",
   "metadata": {},
   "source": [
    "###### an object made from a class with a __len__ function returns 0 or false"
   ]
  },
  {
   "cell_type": "code",
   "execution_count": 4,
   "id": "b7a40b64",
   "metadata": {},
   "outputs": [
    {
     "name": "stdout",
     "output_type": "stream",
     "text": [
      "False\n"
     ]
    }
   ],
   "source": [
    "class myclass():\n",
    "    def __len__(self):\n",
    "        return 0\n",
    "myobj = myclass()\n",
    "print(bool(myobj))"
   ]
  },
  {
   "cell_type": "markdown",
   "id": "9c68c7eb",
   "metadata": {},
   "source": [
    "###### function that return a boolean"
   ]
  },
  {
   "cell_type": "code",
   "execution_count": 6,
   "id": "527b51db",
   "metadata": {},
   "outputs": [
    {
     "name": "stdout",
     "output_type": "stream",
     "text": [
      "True\n"
     ]
    }
   ],
   "source": [
    "def myFunction():\n",
    "    return True\n",
    "\n",
    "print(myFunction())"
   ]
  },
  {
   "cell_type": "markdown",
   "id": "e09cef92",
   "metadata": {},
   "source": [
    "###### built-in functions"
   ]
  },
  {
   "cell_type": "code",
   "execution_count": 12,
   "id": "af9ea703",
   "metadata": {},
   "outputs": [
    {
     "name": "stdout",
     "output_type": "stream",
     "text": [
      "True\n"
     ]
    }
   ],
   "source": [
    "#example try check if a number is an interger\n",
    "num = 40 \n",
    "print(isinstance(num,int))"
   ]
  },
  {
   "cell_type": "code",
   "execution_count": null,
   "id": "fc9be229",
   "metadata": {},
   "outputs": [],
   "source": []
  }
 ],
 "metadata": {
  "kernelspec": {
   "display_name": "Python 3 (ipykernel)",
   "language": "python",
   "name": "python3"
  },
  "language_info": {
   "codemirror_mode": {
    "name": "ipython",
    "version": 3
   },
   "file_extension": ".py",
   "mimetype": "text/x-python",
   "name": "python",
   "nbconvert_exporter": "python",
   "pygments_lexer": "ipython3",
   "version": "3.10.7"
  }
 },
 "nbformat": 4,
 "nbformat_minor": 5
}
