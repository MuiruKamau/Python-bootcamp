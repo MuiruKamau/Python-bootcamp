{
 "cells": [
  {
   "cell_type": "markdown",
   "id": "d46b97d5",
   "metadata": {},
   "source": [
    "# Dictionaries\n"
   ]
  },
  {
   "cell_type": "markdown",
   "id": "61242d21",
   "metadata": {},
   "source": [
    "Dictionaries are used to store data values in key:value pairs.\n",
    "\n",
    "They're ordered,changeable(mutable) and don't allow duplicates.\n",
    "\n",
    "Value in dictionary items can be of any data type\n",
    "\n",
    "What we are going to cove:\n",
    "\n",
    "1. Access Dictionary items\n",
    "2. Changing Dictionary items\n",
    "3. Adding and removing items\n",
    "4. Looping Dictionaries\n",
    "5. Making a copy of a Dictionary\n",
    "6. Nested Dictionaries"
   ]
  },
  {
   "cell_type": "code",
   "execution_count": 1,
   "id": "f89ef05e",
   "metadata": {},
   "outputs": [
    {
     "name": "stdout",
     "output_type": "stream",
     "text": [
      "{'name': 'Mbappe', 'club': 'PSG', 'country': 'France'}\n"
     ]
    }
   ],
   "source": [
    "#Exmple of dictionary\n",
    "thisdict ={\n",
    "    \"name\" : \"Mbappe\",\n",
    "    \"club\" : \"PSG\",\n",
    "    \"country\" : \"France\"}\n",
    "print(thisdict)"
   ]
  },
  {
   "cell_type": "code",
   "execution_count": 2,
   "id": "ec3aa363",
   "metadata": {},
   "outputs": [
    {
     "data": {
      "text/plain": [
       "3"
      ]
     },
     "execution_count": 2,
     "metadata": {},
     "output_type": "execute_result"
    }
   ],
   "source": [
    "# we can find how many items are in a dictionary\n",
    "len(thisdict)"
   ]
  },
  {
   "cell_type": "markdown",
   "id": "7b001274",
   "metadata": {},
   "source": [
    "###  Access Dictionary Items"
   ]
  },
  {
   "cell_type": "code",
   "execution_count": 3,
   "id": "6747bfdd",
   "metadata": {},
   "outputs": [
    {
     "name": "stdout",
     "output_type": "stream",
     "text": [
      "{'name': 'Mbappe', 'club': 'PSG', 'country': 'France'}\n"
     ]
    }
   ],
   "source": [
    "print(thisdict)"
   ]
  },
  {
   "cell_type": "code",
   "execution_count": 4,
   "id": "815a6c0b",
   "metadata": {},
   "outputs": [
    {
     "name": "stdout",
     "output_type": "stream",
     "text": [
      "Mbappe\n"
     ]
    }
   ],
   "source": [
    "x = thisdict[\"name\"]\n",
    "print(x)"
   ]
  },
  {
   "cell_type": "code",
   "execution_count": 5,
   "id": "6cf350b5",
   "metadata": {},
   "outputs": [
    {
     "data": {
      "text/plain": [
       "'Mbappe'"
      ]
     },
     "execution_count": 5,
     "metadata": {},
     "output_type": "execute_result"
    }
   ],
   "source": [
    "#.get() will yield same results above\n",
    "thisdict.get(\"name\")"
   ]
  },
  {
   "cell_type": "markdown",
   "id": "14f11982",
   "metadata": {},
   "source": [
    "##### a. Get keys"
   ]
  },
  {
   "cell_type": "code",
   "execution_count": 6,
   "id": "e6c6ade7",
   "metadata": {},
   "outputs": [
    {
     "data": {
      "text/plain": [
       "dict_keys(['name', 'club', 'country'])"
      ]
     },
     "execution_count": 6,
     "metadata": {},
     "output_type": "execute_result"
    }
   ],
   "source": [
    "thisdict.keys()"
   ]
  },
  {
   "cell_type": "markdown",
   "id": "33a49317",
   "metadata": {},
   "source": [
    "#####  b. Get Values"
   ]
  },
  {
   "cell_type": "code",
   "execution_count": 7,
   "id": "ad217b3d",
   "metadata": {},
   "outputs": [
    {
     "data": {
      "text/plain": [
       "dict_values(['Mbappe', 'PSG', 'France'])"
      ]
     },
     "execution_count": 7,
     "metadata": {},
     "output_type": "execute_result"
    }
   ],
   "source": [
    "thisdict.values()"
   ]
  },
  {
   "cell_type": "markdown",
   "id": "b1265038",
   "metadata": {},
   "source": [
    "##### c.  Get Items"
   ]
  },
  {
   "cell_type": "code",
   "execution_count": 8,
   "id": "981c73e4",
   "metadata": {},
   "outputs": [
    {
     "data": {
      "text/plain": [
       "dict_items([('name', 'Mbappe'), ('club', 'PSG'), ('country', 'France')])"
      ]
     },
     "execution_count": 8,
     "metadata": {},
     "output_type": "execute_result"
    }
   ],
   "source": [
    "thisdict.items()"
   ]
  },
  {
   "cell_type": "markdown",
   "id": "126a11d8",
   "metadata": {},
   "source": [
    "###  Change Dictionary Items"
   ]
  },
  {
   "cell_type": "markdown",
   "id": "26f694e7",
   "metadata": {},
   "source": [
    "##### a.change values"
   ]
  },
  {
   "cell_type": "code",
   "execution_count": 9,
   "id": "bab76f6f",
   "metadata": {},
   "outputs": [
    {
     "name": "stdout",
     "output_type": "stream",
     "text": [
      "{'name': 'Mbappe', 'club': 'PSG', 'country': 'France'}\n"
     ]
    }
   ],
   "source": [
    "#You can change the value of a specified item by referring to its key name\n",
    "print(thisdict)"
   ]
  },
  {
   "cell_type": "code",
   "execution_count": 10,
   "id": "aa3fbdd4",
   "metadata": {},
   "outputs": [
    {
     "name": "stdout",
     "output_type": "stream",
     "text": [
      "{'name': 'Mbappe', 'club': 'Real Madrid', 'country': 'France'}\n"
     ]
    }
   ],
   "source": [
    "thisdict[\"club\"] = \"Real Madrid\"\n",
    "print(thisdict)"
   ]
  },
  {
   "cell_type": "markdown",
   "id": "14534a79",
   "metadata": {},
   "source": [
    "### Add Dictionary Items"
   ]
  },
  {
   "cell_type": "markdown",
   "id": "eca0489f",
   "metadata": {},
   "source": [
    "##### a. adding items"
   ]
  },
  {
   "cell_type": "code",
   "execution_count": 11,
   "id": "4d7de1ec",
   "metadata": {},
   "outputs": [
    {
     "name": "stdout",
     "output_type": "stream",
     "text": [
      "{'name': 'Mbappe', 'club': 'Real Madrid', 'country': 'France'}\n"
     ]
    }
   ],
   "source": [
    "print(thisdict)"
   ]
  },
  {
   "cell_type": "code",
   "execution_count": 12,
   "id": "9e9e4c3b",
   "metadata": {},
   "outputs": [
    {
     "name": "stdout",
     "output_type": "stream",
     "text": [
      "{'name': 'Mbappe', 'club': 'Real Madrid', 'country': 'France', 'race': 'African'}\n"
     ]
    }
   ],
   "source": [
    "thisdict[\"race\"] = \"African\"\n",
    "print(thisdict)"
   ]
  },
  {
   "cell_type": "markdown",
   "id": "fb99995b",
   "metadata": {},
   "source": [
    "##### b.update()"
   ]
  },
  {
   "cell_type": "code",
   "execution_count": 15,
   "id": "9c07bf85",
   "metadata": {},
   "outputs": [
    {
     "name": "stdout",
     "output_type": "stream",
     "text": [
      "{'name': 'Mbappe', 'club': 'Real Madrid', 'country': 'France', 'race': 'African', 'age': 24}\n"
     ]
    }
   ],
   "source": [
    "#It will update dictionary from items from a given argument.The argument must be a dictionary or an object with key:value pairs\n",
    "thisdict.update({'age':24})\n",
    "print(thisdict)"
   ]
  },
  {
   "cell_type": "markdown",
   "id": "4609891c",
   "metadata": {},
   "source": [
    "### Remove items \n",
    "\n",
    "We use the same methods as in Lists\n"
   ]
  },
  {
   "cell_type": "code",
   "execution_count": 20,
   "id": "1c7d220c",
   "metadata": {},
   "outputs": [
    {
     "name": "stdout",
     "output_type": "stream",
     "text": [
      "{'club': 'Real Madrid', 'country': 'France', 'race': 'African', 'age': 24}\n"
     ]
    }
   ],
   "source": [
    "print(thisdict)"
   ]
  },
  {
   "cell_type": "code",
   "execution_count": 21,
   "id": "2a9ebe81",
   "metadata": {},
   "outputs": [
    {
     "name": "stdout",
     "output_type": "stream",
     "text": [
      "{'country': 'France', 'race': 'African', 'age': 24}\n"
     ]
    }
   ],
   "source": [
    "thisdict.pop('club')\n",
    "print(thisdict)"
   ]
  },
  {
   "cell_type": "markdown",
   "id": "79b04cb7",
   "metadata": {},
   "source": [
    "### Loop Dictionaries\n",
    " It will only return the keys of the dictionary but we can use other methods to return the values or both"
   ]
  },
  {
   "cell_type": "code",
   "execution_count": 22,
   "id": "699a2f3e",
   "metadata": {},
   "outputs": [
    {
     "name": "stdout",
     "output_type": "stream",
     "text": [
      "{'country': 'France', 'race': 'African', 'age': 24}\n"
     ]
    }
   ],
   "source": [
    "print(thisdict)"
   ]
  },
  {
   "cell_type": "code",
   "execution_count": 23,
   "id": "835fdfc8",
   "metadata": {},
   "outputs": [
    {
     "name": "stdout",
     "output_type": "stream",
     "text": [
      "country\n",
      "race\n",
      "age\n"
     ]
    }
   ],
   "source": [
    "for i in thisdict:\n",
    "    print(i)"
   ]
  },
  {
   "cell_type": "markdown",
   "id": "96d48fa8",
   "metadata": {},
   "source": [
    "#####  Values()"
   ]
  },
  {
   "cell_type": "code",
   "execution_count": 24,
   "id": "f58680dc",
   "metadata": {},
   "outputs": [
    {
     "name": "stdout",
     "output_type": "stream",
     "text": [
      "France\n",
      "African\n",
      "24\n"
     ]
    }
   ],
   "source": [
    "for x in thisdict.values():\n",
    "    print(x)"
   ]
  },
  {
   "cell_type": "markdown",
   "id": "6be8920c",
   "metadata": {},
   "source": [
    "##### items()"
   ]
  },
  {
   "cell_type": "code",
   "execution_count": 26,
   "id": "bcd2b4bd",
   "metadata": {},
   "outputs": [
    {
     "name": "stdout",
     "output_type": "stream",
     "text": [
      "country France\n",
      "race African\n",
      "age 24\n"
     ]
    }
   ],
   "source": [
    "for x,y in thisdict.items():\n",
    "    print(x,y)"
   ]
  },
  {
   "cell_type": "markdown",
   "id": "4fd4dd56",
   "metadata": {},
   "source": [
    "### Copy Dictionaries"
   ]
  },
  {
   "cell_type": "code",
   "execution_count": 27,
   "id": "f08f5953",
   "metadata": {},
   "outputs": [
    {
     "name": "stdout",
     "output_type": "stream",
     "text": [
      "{'country': 'France', 'race': 'African', 'age': 24}\n"
     ]
    }
   ],
   "source": [
    "mydict = thisdict.copy()\n",
    "print(mydict)"
   ]
  },
  {
   "cell_type": "markdown",
   "id": "cf2096c0",
   "metadata": {},
   "source": [
    "### Nested Dictionaries\n",
    "A dictionary can contain additional dictionaries"
   ]
  },
  {
   "cell_type": "code",
   "execution_count": 30,
   "id": "6bf7c5a9",
   "metadata": {},
   "outputs": [
    {
     "name": "stdout",
     "output_type": "stream",
     "text": [
      "{'Player1': {'age': 24, 'Name': 'Mbappe'}, 'Player 2': {'age': 34, 'Name': 'Messi'}}\n"
     ]
    }
   ],
   "source": [
    "PsgStars ={\n",
    "    'Player1' : {\n",
    "    'age'     : 24,\n",
    "    \"Name\"    : \"Mbappe\"    \n",
    "    },\n",
    "    'Player 2': {\n",
    "    \"age\"     : 34,\n",
    "    \"Name\"    : \"Messi\"\n",
    "}\n",
    "}\n",
    "\n",
    "print(PsgStars)"
   ]
  },
  {
   "cell_type": "code",
   "execution_count": 35,
   "id": "8878e6b7",
   "metadata": {},
   "outputs": [
    {
     "name": "stdout",
     "output_type": "stream",
     "text": [
      "{'player1': {'age': 24, 'name': 'Mbappe'}, 'player2': {'age': 35, 'name': 'Messi'}}\n"
     ]
    }
   ],
   "source": [
    "#Another way of creating a nested dictionary\n",
    "player1 = {\"age\":24,\"name\":\"Mbappe\"}\n",
    "player2 = {\"age\":35,\"name\":\"Messi\"}\n",
    "\n",
    "PsgStars = {\n",
    "    \"player1\" :player1,\n",
    "    \"player2\" :player2\n",
    "}\n",
    "print(PsgStars)"
   ]
  },
  {
   "cell_type": "code",
   "execution_count": null,
   "id": "b8ce6a1a",
   "metadata": {},
   "outputs": [],
   "source": []
  },
  {
   "cell_type": "code",
   "execution_count": null,
   "id": "cd4dc09e",
   "metadata": {},
   "outputs": [],
   "source": []
  }
 ],
 "metadata": {
  "kernelspec": {
   "display_name": "Python 3 (ipykernel)",
   "language": "python",
   "name": "python3"
  },
  "language_info": {
   "codemirror_mode": {
    "name": "ipython",
    "version": 3
   },
   "file_extension": ".py",
   "mimetype": "text/x-python",
   "name": "python",
   "nbconvert_exporter": "python",
   "pygments_lexer": "ipython3",
   "version": "3.10.7"
  }
 },
 "nbformat": 4,
 "nbformat_minor": 5
}
