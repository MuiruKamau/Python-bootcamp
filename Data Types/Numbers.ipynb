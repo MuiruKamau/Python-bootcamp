{
 "cells": [
  {
   "cell_type": "markdown",
   "id": "c8043502",
   "metadata": {},
   "source": [
    "# Numbers\n",
    "\n",
    "We have three numeric types in python\n",
    "1. int\n",
    "2. float\n",
    "3. complex\n",
    "\n"
   ]
  },
  {
   "cell_type": "markdown",
   "id": "d9e4ce3a",
   "metadata": {},
   "source": [
    "### int\n",
    "\n",
    "Is a whole number either positive or negative without decimals."
   ]
  },
  {
   "cell_type": "code",
   "execution_count": 1,
   "id": "91205cac",
   "metadata": {},
   "outputs": [
    {
     "name": "stdout",
     "output_type": "stream",
     "text": [
      "<class 'int'>\n"
     ]
    }
   ],
   "source": [
    "x = 23\n",
    "print(type(x))"
   ]
  },
  {
   "cell_type": "markdown",
   "id": "91fefe1c",
   "metadata": {},
   "source": [
    "### float\n",
    "Is a number either positive or negative containing decimals.\n",
    "\n",
    "It can also be a scientific number with an \"e\" to indicate the power of 10."
   ]
  },
  {
   "cell_type": "code",
   "execution_count": 2,
   "id": "dd907bd6",
   "metadata": {},
   "outputs": [
    {
     "name": "stdout",
     "output_type": "stream",
     "text": [
      "<class 'float'>\n"
     ]
    }
   ],
   "source": [
    "y = -2.3333\n",
    "print(type(y))"
   ]
  },
  {
   "cell_type": "code",
   "execution_count": 5,
   "id": "e60157e1",
   "metadata": {},
   "outputs": [
    {
     "name": "stdout",
     "output_type": "stream",
     "text": [
      "<class 'float'>\n"
     ]
    }
   ],
   "source": [
    "q = 35e3\n",
    "print(type(q))"
   ]
  },
  {
   "cell_type": "markdown",
   "id": "905949ad",
   "metadata": {},
   "source": [
    "### complex\n",
    "Numbers written with a \"j\" as the imaginary part."
   ]
  },
  {
   "cell_type": "code",
   "execution_count": 6,
   "id": "ff074611",
   "metadata": {},
   "outputs": [
    {
     "name": "stdout",
     "output_type": "stream",
     "text": [
      "<class 'complex'>\n"
     ]
    }
   ],
   "source": [
    "w = 3 + 5j\n",
    "\n",
    "print(type(w))"
   ]
  },
  {
   "cell_type": "markdown",
   "id": "bdae381d",
   "metadata": {},
   "source": [
    "### Type conversion\n",
    "\n",
    "You can convert from one type to another with int() ,float() and complex() methods but you cannot covert complex numbers to other types"
   ]
  },
  {
   "cell_type": "code",
   "execution_count": 7,
   "id": "4d0be7fa",
   "metadata": {},
   "outputs": [
    {
     "name": "stdout",
     "output_type": "stream",
     "text": [
      "<class 'float'>\n"
     ]
    }
   ],
   "source": [
    "a = 2 # int\n",
    "\n",
    "# convert from int to float:\n",
    "b = float(a)\n",
    "\n",
    "print(type(b))"
   ]
  },
  {
   "cell_type": "markdown",
   "id": "26f37f7d",
   "metadata": {},
   "source": [
    "### Random Number\n",
    "Python doesn't have a random() function to make a random number,but it has a built-in module called random\n",
    "that can be used to make random numbers."
   ]
  },
  {
   "cell_type": "code",
   "execution_count": 8,
   "id": "a7ff6850",
   "metadata": {},
   "outputs": [
    {
     "name": "stdout",
     "output_type": "stream",
     "text": [
      "8\n"
     ]
    }
   ],
   "source": [
    "import random\n",
    "print(random.randrange(1,10))"
   ]
  },
  {
   "cell_type": "markdown",
   "id": "ea792ea4",
   "metadata": {},
   "source": [
    "### Simple calculation"
   ]
  },
  {
   "cell_type": "code",
   "execution_count": 1,
   "id": "b9632878",
   "metadata": {},
   "outputs": [
    {
     "name": "stdout",
     "output_type": "stream",
     "text": [
      "40.0\n"
     ]
    }
   ],
   "source": [
    "a = 400\n",
    "b = 0.1\n",
    "my_answer = a * b\n",
    "print(my_answer)"
   ]
  }
 ],
 "metadata": {
  "kernelspec": {
   "display_name": "Python 3 (ipykernel)",
   "language": "python",
   "name": "python3"
  },
  "language_info": {
   "codemirror_mode": {
    "name": "ipython",
    "version": 3
   },
   "file_extension": ".py",
   "mimetype": "text/x-python",
   "name": "python",
   "nbconvert_exporter": "python",
   "pygments_lexer": "ipython3",
   "version": "3.10.7"
  }
 },
 "nbformat": 4,
 "nbformat_minor": 5
}
