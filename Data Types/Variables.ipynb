{
 "cells": [
  {
   "cell_type": "markdown",
   "id": "bc45a9f9",
   "metadata": {},
   "source": [
    "# Variables\n",
    "\n",
    "Variables are containers for storing data values\n",
    "\n",
    "A variable is created the moment you assign a value to it."
   ]
  },
  {
   "cell_type": "markdown",
   "id": "0f23e122",
   "metadata": {},
   "source": [
    "### Intro"
   ]
  },
  {
   "cell_type": "code",
   "execution_count": 1,
   "id": "d1e0d5be",
   "metadata": {},
   "outputs": [
    {
     "name": "stdout",
     "output_type": "stream",
     "text": [
      "5\n",
      "Ben\n"
     ]
    }
   ],
   "source": [
    "# Examples\n",
    "x = 5\n",
    "y = 'Ben'\n",
    "\n",
    "print(x)\n",
    "print(y)"
   ]
  },
  {
   "cell_type": "markdown",
   "id": "75911de9",
   "metadata": {},
   "source": [
    "Variable can change even after being set"
   ]
  },
  {
   "cell_type": "code",
   "execution_count": 2,
   "id": "470f65d7",
   "metadata": {},
   "outputs": [
    {
     "name": "stdout",
     "output_type": "stream",
     "text": [
      "Ben\n"
     ]
    }
   ],
   "source": [
    "a = 5      # a is of type int\n",
    "a = \"Ben\"  # a is of type str\n",
    "\n",
    "print(a)"
   ]
  },
  {
   "cell_type": "markdown",
   "id": "05c402c6",
   "metadata": {},
   "source": [
    "#####  Casting\n",
    "You can specify the data type of a variable"
   ]
  },
  {
   "cell_type": "code",
   "execution_count": 3,
   "id": "5081aa44",
   "metadata": {},
   "outputs": [
    {
     "name": "stdout",
     "output_type": "stream",
     "text": [
      "<class 'str'>\n",
      "<class 'int'>\n",
      "<class 'float'>\n"
     ]
    }
   ],
   "source": [
    "j = str(5)\n",
    "k = int(5)\n",
    "l = float(5)\n",
    "\n",
    "print(type(j))\n",
    "print(type(k))\n",
    "print(type(l))"
   ]
  },
  {
   "cell_type": "markdown",
   "id": "52e765f4",
   "metadata": {},
   "source": [
    "###### type() function can be used to get the data type of a variable"
   ]
  },
  {
   "cell_type": "markdown",
   "id": "5a4a9d99",
   "metadata": {},
   "source": [
    "### Variable name\n",
    "\n",
    "Rules for Python variables names:\n",
    "\n",
    "1. It must start with a letter or the underscore character.\n",
    "2. It can't start with a number.\n",
    "3. It can only contain alpha-numeric characters and underscores.\n",
    "4. It's case-sensitive (age and Age are different variables)."
   ]
  },
  {
   "cell_type": "markdown",
   "id": "7e871e9d",
   "metadata": {},
   "source": [
    "#### Multi Words Variable Names\n",
    "\n",
    "Techniques for writting multi names\n",
    "\n",
    "1. Camel Case\n",
    "2. Pascal Case\n",
    "3. Snake Case"
   ]
  },
  {
   "cell_type": "markdown",
   "id": "e5053ad2",
   "metadata": {},
   "source": [
    "###### Camel Case"
   ]
  },
  {
   "cell_type": "code",
   "execution_count": 4,
   "id": "eafdcfb5",
   "metadata": {},
   "outputs": [],
   "source": [
    "#Each word except the first,starts with a capital letter\n",
    "myVariableName = \"Ben\""
   ]
  },
  {
   "cell_type": "markdown",
   "id": "88a34954",
   "metadata": {},
   "source": [
    "###### Pascal Case"
   ]
  },
  {
   "cell_type": "code",
   "execution_count": 6,
   "id": "7c110385",
   "metadata": {},
   "outputs": [],
   "source": [
    "#Each word starts with a capital letter\n",
    "MyVariableName = \"Ben\""
   ]
  },
  {
   "cell_type": "markdown",
   "id": "33156a33",
   "metadata": {},
   "source": [
    "###### Snake Case\n"
   ]
  },
  {
   "cell_type": "code",
   "execution_count": 9,
   "id": "4f7cf9d5",
   "metadata": {},
   "outputs": [],
   "source": [
    "#Each word is separated by an underscore character\n",
    "my_variable_name = \"Ben\""
   ]
  },
  {
   "cell_type": "markdown",
   "id": "ac595b72",
   "metadata": {},
   "source": [
    "### Assign Multiple Values"
   ]
  },
  {
   "cell_type": "markdown",
   "id": "e150fa64",
   "metadata": {},
   "source": [
    "###### Many values to multiple variables"
   ]
  },
  {
   "cell_type": "code",
   "execution_count": 10,
   "id": "685efabe",
   "metadata": {},
   "outputs": [
    {
     "name": "stdout",
     "output_type": "stream",
     "text": [
      "Kenya\n",
      "Uganda\n",
      "Tanzania\n"
     ]
    }
   ],
   "source": [
    "k,d,f = \"Kenya\",\"Uganda\",\"Tanzania\"\n",
    "print(k)\n",
    "print(d)\n",
    "print(f)"
   ]
  },
  {
   "cell_type": "markdown",
   "id": "03f3d0ae",
   "metadata": {},
   "source": [
    "###### One value to multiple variables"
   ]
  },
  {
   "cell_type": "code",
   "execution_count": 11,
   "id": "521dd7d0",
   "metadata": {},
   "outputs": [
    {
     "name": "stdout",
     "output_type": "stream",
     "text": [
      "Muiru\n",
      "Muiru\n"
     ]
    }
   ],
   "source": [
    "m = k = \"Muiru\"\n",
    "print(m)\n",
    "print(k)"
   ]
  },
  {
   "cell_type": "markdown",
   "id": "12955c4e",
   "metadata": {},
   "source": [
    "###### Unpack a Collection\n",
    "If you have a collection of values in a list,tuple etc.Python allows you to extract the values into variables.It's called unpacking."
   ]
  },
  {
   "cell_type": "code",
   "execution_count": 12,
   "id": "af701aa4",
   "metadata": {},
   "outputs": [
    {
     "name": "stdout",
     "output_type": "stream",
     "text": [
      "Kenya\n",
      "Uganda\n",
      "somalia\n"
     ]
    }
   ],
   "source": [
    "countries = [\"Kenya\",\"Uganda\",\"somalia\"]\n",
    "x,y,z = countries\n",
    "print(x)\n",
    "print(y)\n",
    "print(z)"
   ]
  },
  {
   "cell_type": "markdown",
   "id": "1c15866e",
   "metadata": {},
   "source": [
    "### Output Variables\n",
    "The print() function is used to output variables.\n",
    "You can output multiple variables separated by a comma."
   ]
  },
  {
   "cell_type": "code",
   "execution_count": 15,
   "id": "2951b8a2",
   "metadata": {},
   "outputs": [
    {
     "name": "stdout",
     "output_type": "stream",
     "text": [
      "Benson is my name.\n"
     ]
    }
   ],
   "source": [
    "a = \"Benson\"\n",
    "b = \"is\"\n",
    "c = \"my\"\n",
    "d = \"name.\"\n",
    "print(a,b,c,d)"
   ]
  },
  {
   "cell_type": "markdown",
   "id": "589e10ab",
   "metadata": {},
   "source": [
    "### Global Variables\n",
    "Global Variable are Variables created outside a function."
   ]
  },
  {
   "cell_type": "code",
   "execution_count": 17,
   "id": "f84a74db",
   "metadata": {},
   "outputs": [
    {
     "name": "stdout",
     "output_type": "stream",
     "text": [
      "Tesla is  fast\n"
     ]
    }
   ],
   "source": [
    "# Create a variable outside of a function and use it inside a function\n",
    "x = \"fast\"\n",
    "\n",
    "def myfunc():\n",
    "    print(\"Tesla is \" , x )\n",
    "\n",
    "myfunc()"
   ]
  },
  {
   "cell_type": "markdown",
   "id": "8dcdff8b",
   "metadata": {},
   "source": [
    "If you create a variable with the same name inside a function,this variable will be local and can only be used inside a function.The global variable with same name will remain as it was."
   ]
  },
  {
   "cell_type": "code",
   "execution_count": 27,
   "id": "f62453ec",
   "metadata": {},
   "outputs": [
    {
     "name": "stdout",
     "output_type": "stream",
     "text": [
      "Tesla is sleek\n",
      "Tesla is fast\n"
     ]
    }
   ],
   "source": [
    "#example\n",
    "x = \"fast\"\n",
    "\n",
    "def myfunc():\n",
    "    x = \"sleek\"\n",
    "    print(\"Tesla is\" , x )\n",
    "\n",
    "myfunc()\n",
    "\n",
    "print(\"Tesla is \" + x)"
   ]
  },
  {
   "cell_type": "markdown",
   "id": "b6c5b621",
   "metadata": {},
   "source": [
    "###### global keyword\n",
    "We use the global keyword to create a global variable inside a function."
   ]
  },
  {
   "cell_type": "code",
   "execution_count": 28,
   "id": "61c3d754",
   "metadata": {},
   "outputs": [
    {
     "name": "stdout",
     "output_type": "stream",
     "text": [
      "Tesla is sleek\n"
     ]
    }
   ],
   "source": [
    "x = \"fast\"\n",
    "\n",
    "def myfunc():\n",
    "    global x\n",
    "    x = \"sleek\"\n",
    "\n",
    "myfunc()\n",
    "\n",
    "print(\"Tesla is \" + x)"
   ]
  },
  {
   "cell_type": "code",
   "execution_count": null,
   "id": "8333dc70",
   "metadata": {},
   "outputs": [],
   "source": []
  }
 ],
 "metadata": {
  "kernelspec": {
   "display_name": "Python 3 (ipykernel)",
   "language": "python",
   "name": "python3"
  },
  "language_info": {
   "codemirror_mode": {
    "name": "ipython",
    "version": 3
   },
   "file_extension": ".py",
   "mimetype": "text/x-python",
   "name": "python",
   "nbconvert_exporter": "python",
   "pygments_lexer": "ipython3",
   "version": "3.10.7"
  }
 },
 "nbformat": 4,
 "nbformat_minor": 5
}
