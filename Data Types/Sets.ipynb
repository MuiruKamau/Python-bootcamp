{
 "cells": [
  {
   "cell_type": "markdown",
   "id": "b328da05",
   "metadata": {},
   "source": [
    "# sets\n",
    "\n",
    "######  A set is a collection which is unordered thus unindexed ,unchangeable ( but you can remove items and add new items) and it doesn't allow duplication\n",
    "\n",
    "You can access set methods by writing your set down followed by a period and then click tab eg myset. + tab\n",
    "\n",
    "###### Topics\n",
    "\n",
    "1. Accessing set items\n",
    "2. Add or remove set items\n",
    "3. Join sets"
   ]
  },
  {
   "cell_type": "code",
   "execution_count": 1,
   "id": "5270ca79",
   "metadata": {},
   "outputs": [
    {
     "data": {
      "text/plain": [
       "set"
      ]
     },
     "execution_count": 1,
     "metadata": {},
     "output_type": "execute_result"
    }
   ],
   "source": [
    "#Example\n",
    "myset = {\"apple\",\"banana\",\"cherry\"}\n",
    "type(myset)"
   ]
  },
  {
   "cell_type": "code",
   "execution_count": 2,
   "id": "b4f6cc8a",
   "metadata": {},
   "outputs": [
    {
     "data": {
      "text/plain": [
       "3"
      ]
     },
     "execution_count": 2,
     "metadata": {},
     "output_type": "execute_result"
    }
   ],
   "source": [
    "#can find its length\n",
    "len(myset)"
   ]
  },
  {
   "cell_type": "markdown",
   "id": "325043db",
   "metadata": {},
   "source": [
    "### Accessing set items\n",
    "You cannot index a set by you can loop through its items."
   ]
  },
  {
   "cell_type": "code",
   "execution_count": 3,
   "id": "eb392122",
   "metadata": {},
   "outputs": [
    {
     "name": "stdout",
     "output_type": "stream",
     "text": [
      "{'cherry', 'banana', 'apple'}\n"
     ]
    }
   ],
   "source": [
    "print(myset)"
   ]
  },
  {
   "cell_type": "code",
   "execution_count": 5,
   "id": "3c176a61",
   "metadata": {},
   "outputs": [
    {
     "name": "stdout",
     "output_type": "stream",
     "text": [
      "cherry\n",
      "banana\n",
      "apple\n"
     ]
    }
   ],
   "source": [
    "for i in myset:\n",
    "    print(i)"
   ]
  },
  {
   "cell_type": "code",
   "execution_count": 6,
   "id": "372ee83c",
   "metadata": {},
   "outputs": [
    {
     "name": "stdout",
     "output_type": "stream",
     "text": [
      "True\n"
     ]
    }
   ],
   "source": [
    "#check items in a set\n",
    "print(\"banana\" in myset)"
   ]
  },
  {
   "cell_type": "markdown",
   "id": "5c7d2f5c",
   "metadata": {},
   "source": [
    "### Add or remove set items"
   ]
  },
  {
   "cell_type": "code",
   "execution_count": 7,
   "id": "3de86718",
   "metadata": {},
   "outputs": [
    {
     "name": "stdout",
     "output_type": "stream",
     "text": [
      "{'cherry', 'banana', 'apple'}\n"
     ]
    }
   ],
   "source": [
    "# using add()\n",
    "print(myset)"
   ]
  },
  {
   "cell_type": "code",
   "execution_count": 8,
   "id": "63a0153a",
   "metadata": {},
   "outputs": [
    {
     "name": "stdout",
     "output_type": "stream",
     "text": [
      "{'cherry', 'banana', 'passion', 'apple'}\n"
     ]
    }
   ],
   "source": [
    "myset.add(\"passion\")\n",
    "print(myset)"
   ]
  },
  {
   "cell_type": "code",
   "execution_count": 9,
   "id": "ef276bf0",
   "metadata": {},
   "outputs": [
    {
     "name": "stdout",
     "output_type": "stream",
     "text": [
      "{'cherry', 'banana', 'apple'}\n"
     ]
    }
   ],
   "source": [
    "# using remove\n",
    "myset.remove(\"passion\")\n",
    "print(myset)"
   ]
  },
  {
   "cell_type": "markdown",
   "id": "43aae2d5",
   "metadata": {},
   "source": [
    "### Join Sets\n",
    "\n",
    "Both union() and update () will exclude the duplicates"
   ]
  },
  {
   "cell_type": "markdown",
   "id": "ecc1d161",
   "metadata": {},
   "source": [
    "###### union ()"
   ]
  },
  {
   "cell_type": "code",
   "execution_count": 11,
   "id": "ddc033a0",
   "metadata": {},
   "outputs": [
    {
     "name": "stdout",
     "output_type": "stream",
     "text": [
      "{1, 2, 3, 'a', 'b', 'c'}\n"
     ]
    }
   ],
   "source": [
    "set1 = {\"a\",\"b\",\"c\"}\n",
    "set2 = {1,2,3}\n",
    "set3 = set1.union(set2)\n",
    "print(set3)"
   ]
  },
  {
   "cell_type": "markdown",
   "id": "ed18fc80",
   "metadata": {},
   "source": [
    "###### update()"
   ]
  },
  {
   "cell_type": "code",
   "execution_count": 12,
   "id": "106894b5",
   "metadata": {},
   "outputs": [
    {
     "name": "stdout",
     "output_type": "stream",
     "text": [
      "{1, 2, 3, 'a', 'b', 'c'}\n"
     ]
    }
   ],
   "source": [
    "set1.update(set2)\n",
    "print(set1)"
   ]
  },
  {
   "cell_type": "markdown",
   "id": "45c5e952",
   "metadata": {},
   "source": [
    "###### intersection()\n",
    "Will return a new set that only contains the items that are present in both sets"
   ]
  },
  {
   "cell_type": "code",
   "execution_count": 13,
   "id": "a3cb4ba1",
   "metadata": {},
   "outputs": [
    {
     "name": "stdout",
     "output_type": "stream",
     "text": [
      "{'apple'}\n"
     ]
    }
   ],
   "source": [
    "x = {\"apple\",\"banana\",\"cherry\"}\n",
    "y = {\"google\",\"microsoft\",\"apple\"}\n",
    "z = x.intersection(y)\n",
    "print(z)"
   ]
  },
  {
   "cell_type": "markdown",
   "id": "6fd02974",
   "metadata": {},
   "source": [
    "##### symmetric_difference()\n",
    "Returns a new set,that contains only elements that are NOT present in both sets"
   ]
  },
  {
   "cell_type": "code",
   "execution_count": 14,
   "id": "d0330093",
   "metadata": {},
   "outputs": [
    {
     "name": "stdout",
     "output_type": "stream",
     "text": [
      "{'microsoft', 'google', 'cherry', 'banana'}\n"
     ]
    }
   ],
   "source": [
    "p = x.symmetric_difference(y)\n",
    "print(p)"
   ]
  },
  {
   "cell_type": "code",
   "execution_count": null,
   "id": "e8dd9c27",
   "metadata": {},
   "outputs": [],
   "source": []
  }
 ],
 "metadata": {
  "kernelspec": {
   "display_name": "Python 3 (ipykernel)",
   "language": "python",
   "name": "python3"
  },
  "language_info": {
   "codemirror_mode": {
    "name": "ipython",
    "version": 3
   },
   "file_extension": ".py",
   "mimetype": "text/x-python",
   "name": "python",
   "nbconvert_exporter": "python",
   "pygments_lexer": "ipython3",
   "version": "3.10.7"
  }
 },
 "nbformat": 4,
 "nbformat_minor": 5
}
