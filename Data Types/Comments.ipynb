{
 "cells": [
  {
   "cell_type": "markdown",
   "id": "4d1f371c",
   "metadata": {},
   "source": [
    "# Comments\n",
    "\n",
    "1. Comments are used to explain Python code.\n",
    "2. Comments are used to make the code more readable.\n",
    "3. Comments are used to prevent execution when testing code."
   ]
  },
  {
   "cell_type": "markdown",
   "id": "d1dd9841",
   "metadata": {},
   "source": [
    "### Creating a Comment\n",
    "We use # to create a comment."
   ]
  },
  {
   "cell_type": "markdown",
   "id": "eefbb55b",
   "metadata": {},
   "source": [
    "###### Using comments to explain a python code"
   ]
  },
  {
   "cell_type": "code",
   "execution_count": 1,
   "id": "6e86694a",
   "metadata": {},
   "outputs": [
    {
     "name": "stdout",
     "output_type": "stream",
     "text": [
      "Hello world\n"
     ]
    }
   ],
   "source": [
    "#This code will print the Hello world\n",
    "print(\"Hello world\")"
   ]
  },
  {
   "cell_type": "code",
   "execution_count": 2,
   "id": "2c9e8a04",
   "metadata": {},
   "outputs": [
    {
     "name": "stdout",
     "output_type": "stream",
     "text": [
      "Hello world\n"
     ]
    }
   ],
   "source": [
    "#comments can be placed at the end of the line.\n",
    "print(\"Hello world\") # we want to print Hello world"
   ]
  },
  {
   "cell_type": "markdown",
   "id": "a3954898",
   "metadata": {},
   "source": [
    "###### Using comments to prevent execution of code\n",
    "\n",
    "A comment can prevent a code from running but the moment you remove the # sign your code will run"
   ]
  },
  {
   "cell_type": "code",
   "execution_count": 3,
   "id": "fa2d9d08",
   "metadata": {},
   "outputs": [],
   "source": [
    "#print(\"Hello world\")"
   ]
  },
  {
   "cell_type": "markdown",
   "id": "ed52a35a",
   "metadata": {},
   "source": [
    "###### multiline comment using tripple marks"
   ]
  },
  {
   "cell_type": "code",
   "execution_count": 5,
   "id": "a4cd5e78",
   "metadata": {},
   "outputs": [
    {
     "name": "stdout",
     "output_type": "stream",
     "text": [
      "Hello world\n"
     ]
    }
   ],
   "source": [
    "\"\"\"\n",
    "This is a comment\n",
    "written in\n",
    "more than one line\n",
    "\"\"\"\n",
    "print(\"Hello world\")"
   ]
  },
  {
   "cell_type": "code",
   "execution_count": null,
   "id": "9e4b2900",
   "metadata": {},
   "outputs": [],
   "source": []
  }
 ],
 "metadata": {
  "kernelspec": {
   "display_name": "Python 3 (ipykernel)",
   "language": "python",
   "name": "python3"
  },
  "language_info": {
   "codemirror_mode": {
    "name": "ipython",
    "version": 3
   },
   "file_extension": ".py",
   "mimetype": "text/x-python",
   "name": "python",
   "nbconvert_exporter": "python",
   "pygments_lexer": "ipython3",
   "version": "3.10.7"
  }
 },
 "nbformat": 4,
 "nbformat_minor": 5
}
