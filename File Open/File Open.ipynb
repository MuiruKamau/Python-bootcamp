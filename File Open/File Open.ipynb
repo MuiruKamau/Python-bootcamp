{
 "cells": [
  {
   "cell_type": "markdown",
   "id": "8afd1aeb",
   "metadata": {},
   "source": [
    "# File Open\n",
    "Python has several functions for creating,reading,updating,and deleting files."
   ]
  },
  {
   "cell_type": "markdown",
   "id": "561ada0a",
   "metadata": {},
   "source": [
    "### File handling\n",
    "We use open() function which takes two parameters:filename and mode."
   ]
  },
  {
   "cell_type": "markdown",
   "id": "38e9b27c",
   "metadata": {},
   "source": [
    "|         |            |                                                              |\n",
    "|:-------:|:-----------|:-------------------------------------------------------------|\n",
    "|\"r\"|Read(Default value)|Opens a file for reading,error if the file does not exist|\n",
    "|\"a\"|Append|Opens a file for appending,creates the file if it does not exist|\n",
    "|\"w\"|Write|Opens a file for writing ,creates the file if it does not exist|\n",
    "|\"x\"|Creates|Creates the specified file,returns an error if the file exists|\n",
    "|\"r+\"|read and write|Opens a file for reading and writing|\n",
    "|\"w+\"|write and read|Overwrites existing files or creates a new file|"
   ]
  },
  {
   "cell_type": "markdown",
   "id": "b3613c35",
   "metadata": {},
   "source": [
    "You can classify if the file should be handled as binary or text mode. \n",
    "\n",
    "|    |    |                                                  |\n",
    "|:--:|:---|:-------------------------------------------------|\n",
    "|\"t\"|Text|Default value.Text mode|\n",
    "|\"b\"|Binary|Binary mode(e.g. images)|"
   ]
  },
  {
   "cell_type": "markdown",
   "id": "2b056b6f",
   "metadata": {},
   "source": [
    "If the file is located in a different location,you will have to specify the file path"
   ]
  },
  {
   "cell_type": "code",
   "execution_count": null,
   "id": "49c8549c",
   "metadata": {},
   "outputs": [],
   "source": [
    "# f = open(\"C:\\\\Users\\Documents\\first file\")"
   ]
  },
  {
   "cell_type": "markdown",
   "id": "c7b1d1c6",
   "metadata": {},
   "source": [
    "### File write"
   ]
  },
  {
   "cell_type": "markdown",
   "id": "43a97ed4",
   "metadata": {},
   "source": [
    "To write an existing file,you must add a parameter to the open() function:\n",
    "\n",
    "|     |         |                                        |\n",
    "|:---:|:--------|:---------------------------------------|\n",
    "|\"a\"|Append|Will append to the end of the file|\n",
    "|\"w\"|Write|Will overwrite any existing content|"
   ]
  },
  {
   "cell_type": "code",
   "execution_count": 1,
   "id": "703d59f6",
   "metadata": {},
   "outputs": [
    {
     "name": "stdout",
     "output_type": "stream",
     "text": [
      "Writing text.txt\n"
     ]
    }
   ],
   "source": [
    "%%writefile text.txt\n",
    "He was a wanted man\n",
    "He fell in love with a cop\n",
    "That is how he escaped jail"
   ]
  },
  {
   "cell_type": "code",
   "execution_count": 19,
   "id": "3aeb0eb1",
   "metadata": {},
   "outputs": [],
   "source": [
    "f = open(\"text.txt\")"
   ]
  },
  {
   "cell_type": "code",
   "execution_count": 23,
   "id": "aee1bce2",
   "metadata": {},
   "outputs": [
    {
     "data": {
      "text/plain": [
       "'C:\\\\Users\\\\BENSON MUIRU\\\\File Open'"
      ]
     },
     "execution_count": 23,
     "metadata": {},
     "output_type": "execute_result"
    }
   ],
   "source": [
    "#checking where my file is current located\n",
    "import os\n",
    "os.getcwd()"
   ]
  },
  {
   "cell_type": "code",
   "execution_count": 20,
   "id": "0670efee",
   "metadata": {},
   "outputs": [
    {
     "name": "stdout",
     "output_type": "stream",
     "text": [
      "He was a wanted man\n",
      "He fell in love with a cop\n",
      "That is how he escaped jail\n",
      "\n"
     ]
    }
   ],
   "source": [
    "print(f.read())"
   ]
  },
  {
   "cell_type": "code",
   "execution_count": 7,
   "id": "9c44fe98",
   "metadata": {},
   "outputs": [
    {
     "data": {
      "text/plain": [
       "''"
      ]
     },
     "execution_count": 7,
     "metadata": {},
     "output_type": "execute_result"
    }
   ],
   "source": [
    "f.read()"
   ]
  },
  {
   "cell_type": "markdown",
   "id": "8c9bec17",
   "metadata": {},
   "source": [
    "This happens because you can imagine the reading \"cursor\" is at the end of the file after having read it. So there is nothing left to read. We can reset the \"cursor\" like this:"
   ]
  },
  {
   "cell_type": "code",
   "execution_count": 8,
   "id": "790237f7",
   "metadata": {},
   "outputs": [
    {
     "data": {
      "text/plain": [
       "0"
      ]
     },
     "execution_count": 8,
     "metadata": {},
     "output_type": "execute_result"
    }
   ],
   "source": [
    "#seek to start of the file index(0)\n",
    "f.seek(0)"
   ]
  },
  {
   "cell_type": "code",
   "execution_count": 9,
   "id": "17ff152d",
   "metadata": {},
   "outputs": [
    {
     "name": "stdout",
     "output_type": "stream",
     "text": [
      "He was a wanted man\n",
      "He fell in love with a cop\n",
      "That is how he escaped jail\n",
      "\n"
     ]
    }
   ],
   "source": [
    "#Read the file again\n",
    "print(f.read())"
   ]
  },
  {
   "cell_type": "code",
   "execution_count": 10,
   "id": "137ecd32",
   "metadata": {},
   "outputs": [],
   "source": [
    "f.close()"
   ]
  },
  {
   "cell_type": "markdown",
   "id": "585ed652",
   "metadata": {},
   "source": [
    "If we use the new way of opening files we don't have to worry about closing files"
   ]
  },
  {
   "cell_type": "code",
   "execution_count": 11,
   "id": "89490e0f",
   "metadata": {},
   "outputs": [],
   "source": [
    "#New way of opening files\n",
    "with open(\"text.txt\") as my_new_file:\n",
    "    contents = my_new_file.read()"
   ]
  },
  {
   "cell_type": "code",
   "execution_count": 12,
   "id": "d3d3ff12",
   "metadata": {},
   "outputs": [
    {
     "name": "stdout",
     "output_type": "stream",
     "text": [
      "He was a wanted man\n",
      "He fell in love with a cop\n",
      "That is how he escaped jail\n",
      "\n"
     ]
    }
   ],
   "source": [
    "print(contents)"
   ]
  },
  {
   "cell_type": "markdown",
   "id": "3b39fc35",
   "metadata": {},
   "source": [
    "If you want to see info for functions that have been defined > move your cursor to the first opening brackets and click shift tab"
   ]
  },
  {
   "cell_type": "code",
   "execution_count": 13,
   "id": "b08caf9f",
   "metadata": {},
   "outputs": [],
   "source": [
    "with open(\"text.txt\",mode='r') as my_file:\n",
    "    contents=my_file.read()"
   ]
  },
  {
   "cell_type": "code",
   "execution_count": 14,
   "id": "71d59ebd",
   "metadata": {},
   "outputs": [
    {
     "name": "stdout",
     "output_type": "stream",
     "text": [
      "He was a wanted man\n",
      "He fell in love with a cop\n",
      "That is how he escaped jail\n",
      "\n"
     ]
    }
   ],
   "source": [
    "print(contents)"
   ]
  },
  {
   "cell_type": "code",
   "execution_count": 6,
   "id": "b54964f8",
   "metadata": {},
   "outputs": [
    {
     "name": "stdout",
     "output_type": "stream",
     "text": [
      "Writing my_new_file.txt\n"
     ]
    }
   ],
   "source": [
    "%%writefile my_new_file.txt\n",
    "One is first\n",
    "Two is second\n",
    "Three is third"
   ]
  },
  {
   "cell_type": "code",
   "execution_count": 7,
   "id": "abb750bc",
   "metadata": {},
   "outputs": [
    {
     "name": "stdout",
     "output_type": "stream",
     "text": [
      "One is first\n",
      "Two is second\n",
      "Three is third\n",
      "\n"
     ]
    }
   ],
   "source": [
    "with open('my_new_file.txt',mode='r') as f:\n",
    "    print(f.read())"
   ]
  },
  {
   "cell_type": "code",
   "execution_count": 8,
   "id": "dbcd0f34",
   "metadata": {},
   "outputs": [],
   "source": [
    "with open(\"my_new_file.txt\",mode=\"a\") as f:\n",
    "    f.write(\"Four is fourth\")"
   ]
  },
  {
   "cell_type": "code",
   "execution_count": 9,
   "id": "1014eaf7",
   "metadata": {},
   "outputs": [
    {
     "name": "stdout",
     "output_type": "stream",
     "text": [
      "One is first\n",
      "Two is second\n",
      "Three is third\n",
      "Four is fourth\n"
     ]
    }
   ],
   "source": [
    "with open('my_new_file.txt',mode='r') as f:\n",
    "    print(f.read())"
   ]
  },
  {
   "cell_type": "markdown",
   "id": "3a8f5068",
   "metadata": {},
   "source": [
    "Return the first 5 characters"
   ]
  },
  {
   "cell_type": "code",
   "execution_count": 10,
   "id": "75a49eb2",
   "metadata": {},
   "outputs": [
    {
     "name": "stdout",
     "output_type": "stream",
     "text": [
      "One i\n"
     ]
    }
   ],
   "source": [
    "with open('my_new_file.txt',mode='r') as f:\n",
    "    print(f.read(5))"
   ]
  },
  {
   "cell_type": "markdown",
   "id": "5811d2b9",
   "metadata": {},
   "source": [
    "Return one line only"
   ]
  },
  {
   "cell_type": "code",
   "execution_count": 11,
   "id": "3ce159a3",
   "metadata": {},
   "outputs": [
    {
     "name": "stdout",
     "output_type": "stream",
     "text": [
      "One is first\n",
      "\n"
     ]
    }
   ],
   "source": [
    "with open('my_new_file.txt',mode='r') as f:\n",
    "    print(f.readline())"
   ]
  },
  {
   "cell_type": "markdown",
   "id": "76eaeff7",
   "metadata": {},
   "source": [
    "Return only two lines"
   ]
  },
  {
   "cell_type": "code",
   "execution_count": 12,
   "id": "d9eb5539",
   "metadata": {},
   "outputs": [
    {
     "name": "stdout",
     "output_type": "stream",
     "text": [
      "One is first\n",
      "\n",
      "Two is second\n",
      "\n"
     ]
    }
   ],
   "source": [
    "with open('my_new_file.txt',mode='r') as f:\n",
    "    print(f.readline())\n",
    "    print(f.readline())"
   ]
  },
  {
   "cell_type": "markdown",
   "id": "b13e0658",
   "metadata": {},
   "source": [
    "By looping through the lines of the file,you can read the whole file,line by line."
   ]
  },
  {
   "cell_type": "code",
   "execution_count": 13,
   "id": "9a8ac3a1",
   "metadata": {},
   "outputs": [
    {
     "name": "stdout",
     "output_type": "stream",
     "text": [
      "One is first\n",
      "\n",
      "Two is second\n",
      "\n",
      "Three is third\n",
      "\n",
      "Four is fourth\n"
     ]
    }
   ],
   "source": [
    "with open('my_new_file.txt',mode='r') as f:\n",
    "    for x in f:\n",
    "        print(x)"
   ]
  },
  {
   "cell_type": "markdown",
   "id": "edc58cb5",
   "metadata": {},
   "source": [
    "###### Explore w for writing an existing file or creating a new one "
   ]
  },
  {
   "cell_type": "code",
   "execution_count": 14,
   "id": "c3b94333",
   "metadata": {},
   "outputs": [],
   "source": [
    "with open(\"firstfile.txt\",mode=\"w\") as f:\n",
    "    f.write(\"I created this file\")"
   ]
  },
  {
   "cell_type": "code",
   "execution_count": 15,
   "id": "4301ac3c",
   "metadata": {},
   "outputs": [
    {
     "name": "stdout",
     "output_type": "stream",
     "text": [
      "I created this file\n"
     ]
    }
   ],
   "source": [
    "with open(\"firstfile.txt\",mode=\"r\") as f:\n",
    "    print(f.read())"
   ]
  },
  {
   "cell_type": "markdown",
   "id": "e015bb7f",
   "metadata": {},
   "source": [
    "### Delete file"
   ]
  },
  {
   "cell_type": "markdown",
   "id": "a431b658",
   "metadata": {},
   "source": [
    "You must import the OS module,and run its os.remove() function."
   ]
  },
  {
   "cell_type": "code",
   "execution_count": 2,
   "id": "20971a8b",
   "metadata": {},
   "outputs": [],
   "source": [
    "import os\n",
    "#os.remove(\"firstfile.txt\")"
   ]
  },
  {
   "cell_type": "markdown",
   "id": "8710d44a",
   "metadata": {},
   "source": [
    "To delete an entire folder we use os.rmdir() method"
   ]
  },
  {
   "cell_type": "code",
   "execution_count": null,
   "id": "5b8c5257",
   "metadata": {},
   "outputs": [],
   "source": [
    "import os\n",
    "#os.rmdir(\"my folder\")"
   ]
  },
  {
   "cell_type": "code",
   "execution_count": null,
   "id": "78812d50",
   "metadata": {},
   "outputs": [],
   "source": []
  }
 ],
 "metadata": {
  "kernelspec": {
   "display_name": "Python 3 (ipykernel)",
   "language": "python",
   "name": "python3"
  },
  "language_info": {
   "codemirror_mode": {
    "name": "ipython",
    "version": 3
   },
   "file_extension": ".py",
   "mimetype": "text/x-python",
   "name": "python",
   "nbconvert_exporter": "python",
   "pygments_lexer": "ipython3",
   "version": "3.10.7"
  }
 },
 "nbformat": 4,
 "nbformat_minor": 5
}
