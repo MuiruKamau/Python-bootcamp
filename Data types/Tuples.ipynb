{
 "cells": [
  {
   "cell_type": "markdown",
   "id": "80599a28",
   "metadata": {},
   "source": [
    "# Tuple \n",
    "\n",
    "###### A tuple is a collection that is ordered and unchangeable and it allows duplicate values.\n",
    "\n",
    "##### Topics\n",
    "\n",
    "1. Accessing tuples\n",
    "2. Update tuples\n",
    "3. Unpacking tuples\n",
    "4. Looping tuples"
   ]
  },
  {
   "cell_type": "markdown",
   "id": "a7063a23",
   "metadata": {},
   "source": [
    "### Intro"
   ]
  },
  {
   "cell_type": "code",
   "execution_count": 1,
   "id": "36cbff7f",
   "metadata": {},
   "outputs": [
    {
     "name": "stdout",
     "output_type": "stream",
     "text": [
      "('Kenya', 'Uganda', 'Tanzania', 'Rwanda', 'Burundi', 'Kenya')\n"
     ]
    }
   ],
   "source": [
    "#Example of a tuple\n",
    "thistuple = (\"Kenya\",\"Uganda\",\"Tanzania\",\"Rwanda\",\"Burundi\",\"Kenya\")\n",
    "print(thistuple)"
   ]
  },
  {
   "cell_type": "code",
   "execution_count": 2,
   "id": "f52ca642",
   "metadata": {},
   "outputs": [
    {
     "data": {
      "text/plain": [
       "6"
      ]
     },
     "execution_count": 2,
     "metadata": {},
     "output_type": "execute_result"
    }
   ],
   "source": [
    "#We can get the length\n",
    "len(thistuple)"
   ]
  },
  {
   "cell_type": "code",
   "execution_count": 3,
   "id": "d92574b3",
   "metadata": {},
   "outputs": [
    {
     "data": {
      "text/plain": [
       "tuple"
      ]
     },
     "execution_count": 3,
     "metadata": {},
     "output_type": "execute_result"
    }
   ],
   "source": [
    "#creating a tuple with one item you must add a comma after the item\n",
    "a = (\"Kenya\",)\n",
    "type(a)\n",
    "#b = (\"Kenya\")\n",
    "#type(b) will be recognized as a string"
   ]
  },
  {
   "cell_type": "markdown",
   "id": "f81e2192",
   "metadata": {},
   "source": [
    "### Acessing tuples"
   ]
  },
  {
   "cell_type": "code",
   "execution_count": 4,
   "id": "0e70d03f",
   "metadata": {},
   "outputs": [
    {
     "name": "stdout",
     "output_type": "stream",
     "text": [
      "('Kenya', 'Uganda', 'Tanzania', 'Rwanda', 'Burundi', 'Kenya')\n"
     ]
    }
   ],
   "source": [
    "#The following example will return Tanzania , Rwanda,Burundi excluding Kenya\n",
    "#We gonnah be using thistuple\n",
    "print(thistuple)"
   ]
  },
  {
   "cell_type": "code",
   "execution_count": 5,
   "id": "60a86dd5",
   "metadata": {},
   "outputs": [
    {
     "name": "stdout",
     "output_type": "stream",
     "text": [
      "('Tanzania', 'Rwanda', 'Burundi')\n"
     ]
    }
   ],
   "source": [
    "print(thistuple[-4:-1])"
   ]
  },
  {
   "cell_type": "code",
   "execution_count": 6,
   "id": "29fe9336",
   "metadata": {},
   "outputs": [
    {
     "name": "stdout",
     "output_type": "stream",
     "text": [
      "yes,Kenya is in this tuple\n"
     ]
    }
   ],
   "source": [
    "#Check if item is present in a tuple\n",
    "if \"Kenya\" in thistuple:\n",
    "    print(\"yes,Kenya is in this tuple\")"
   ]
  },
  {
   "cell_type": "markdown",
   "id": "367c9e52",
   "metadata": {},
   "source": [
    "### Update Tuple"
   ]
  },
  {
   "cell_type": "markdown",
   "id": "1a3b4af6",
   "metadata": {},
   "source": [
    "###### Tuples are immutable but you can convert it to a list and revert  it back "
   ]
  },
  {
   "cell_type": "code",
   "execution_count": 7,
   "id": "b12d0ac1",
   "metadata": {},
   "outputs": [
    {
     "name": "stdout",
     "output_type": "stream",
     "text": [
      "('Kenya', 'Uganda', 'Tanzania', 'Rwanda', 'Burundi', 'Kenya')\n"
     ]
    }
   ],
   "source": [
    "print(thistuple)"
   ]
  },
  {
   "cell_type": "code",
   "execution_count": 8,
   "id": "b3baddd4",
   "metadata": {},
   "outputs": [
    {
     "name": "stdout",
     "output_type": "stream",
     "text": [
      "('Ethiopia', 'Uganda', 'Tanzania', 'Rwanda', 'Burundi', 'Kenya')\n"
     ]
    }
   ],
   "source": [
    "thislist = list(thistuple)\n",
    "thislist[0]=\"Ethiopia\"\n",
    "thistuple = tuple(thislist)\n",
    "print(thistuple)"
   ]
  },
  {
   "cell_type": "markdown",
   "id": "0fab9c47",
   "metadata": {},
   "source": [
    "####  Add a tuple to tuple"
   ]
  },
  {
   "cell_type": "code",
   "execution_count": 9,
   "id": "c9b88caf",
   "metadata": {},
   "outputs": [
    {
     "name": "stdout",
     "output_type": "stream",
     "text": [
      "('Ethiopia', 'Uganda', 'Tanzania', 'Rwanda', 'Burundi', 'Kenya')\n"
     ]
    }
   ],
   "source": [
    "print(thistuple)"
   ]
  },
  {
   "cell_type": "code",
   "execution_count": 11,
   "id": "172aef8d",
   "metadata": {},
   "outputs": [
    {
     "name": "stdout",
     "output_type": "stream",
     "text": [
      "('Ethiopia', 'Uganda', 'Tanzania', 'Rwanda', 'Burundi', 'Kenya', 'Malawi')\n"
     ]
    }
   ],
   "source": [
    "country = (\"Malawi\",)\n",
    "\n",
    "thistuple += country\n",
    "print(thistuple)"
   ]
  },
  {
   "cell_type": "markdown",
   "id": "41e33824",
   "metadata": {},
   "source": [
    "### Unpacking tuples\n",
    "If the number of variables is less than the number of values you are supposed to add an * asterisk"
   ]
  },
  {
   "cell_type": "code",
   "execution_count": 12,
   "id": "4436b1f7",
   "metadata": {},
   "outputs": [
    {
     "name": "stdout",
     "output_type": "stream",
     "text": [
      "('Ethiopia', 'Uganda', 'Tanzania', 'Rwanda', 'Burundi', 'Kenya', 'Malawi')\n"
     ]
    }
   ],
   "source": [
    "print(thistuple)"
   ]
  },
  {
   "cell_type": "code",
   "execution_count": 15,
   "id": "da131938",
   "metadata": {},
   "outputs": [
    {
     "name": "stdout",
     "output_type": "stream",
     "text": [
      "Ethiopia\n",
      "Uganda\n",
      "Tanzania\n",
      "['Rwanda', 'Burundi', 'Kenya', 'Malawi']\n"
     ]
    }
   ],
   "source": [
    "(first,second,third,*others) = thistuple\n",
    "print(first)\n",
    "print(second)\n",
    "print(third)\n",
    "print(others)"
   ]
  },
  {
   "cell_type": "markdown",
   "id": "0056ca4e",
   "metadata": {},
   "source": [
    "### Looping tuples"
   ]
  },
  {
   "cell_type": "markdown",
   "id": "9d82a806",
   "metadata": {},
   "source": [
    "#### Loop through the index numbers"
   ]
  },
  {
   "cell_type": "code",
   "execution_count": 16,
   "id": "31d6f5db",
   "metadata": {},
   "outputs": [
    {
     "name": "stdout",
     "output_type": "stream",
     "text": [
      "('Ethiopia', 'Uganda', 'Tanzania', 'Rwanda', 'Burundi', 'Kenya', 'Malawi')\n"
     ]
    }
   ],
   "source": [
    "print(thistuple)"
   ]
  },
  {
   "cell_type": "code",
   "execution_count": 27,
   "id": "5df0570f",
   "metadata": {},
   "outputs": [
    {
     "name": "stdout",
     "output_type": "stream",
     "text": [
      "Ethiopia\n",
      "Uganda\n",
      "Tanzania\n",
      "Rwanda\n",
      "Burundi\n",
      "Kenya\n",
      "Malawi\n"
     ]
    }
   ],
   "source": [
    "for i in range(len(thistuple)):\n",
    "    print(thistuple[i])"
   ]
  },
  {
   "cell_type": "markdown",
   "id": "c9098ebc",
   "metadata": {},
   "source": [
    "####  using a for loop\n"
   ]
  },
  {
   "cell_type": "code",
   "execution_count": 32,
   "id": "71b1624c",
   "metadata": {
    "scrolled": true
   },
   "outputs": [
    {
     "name": "stdout",
     "output_type": "stream",
     "text": [
      "Ethiopia\n",
      "Uganda\n",
      "Tanzania\n",
      "Rwanda\n",
      "Burundi\n",
      "Kenya\n",
      "Malawi\n"
     ]
    }
   ],
   "source": [
    "i = 0\n",
    "while i < len(thistuple):\n",
    "    print(thistuple[i])\n",
    "    i+=1"
   ]
  },
  {
   "cell_type": "code",
   "execution_count": null,
   "id": "1d399984",
   "metadata": {},
   "outputs": [],
   "source": []
  }
 ],
 "metadata": {
  "kernelspec": {
   "display_name": "Python 3 (ipykernel)",
   "language": "python",
   "name": "python3"
  },
  "language_info": {
   "codemirror_mode": {
    "name": "ipython",
    "version": 3
   },
   "file_extension": ".py",
   "mimetype": "text/x-python",
   "name": "python",
   "nbconvert_exporter": "python",
   "pygments_lexer": "ipython3",
   "version": "3.10.7"
  }
 },
 "nbformat": 4,
 "nbformat_minor": 5
}
